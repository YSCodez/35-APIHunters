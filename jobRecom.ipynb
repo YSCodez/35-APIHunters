{
  "nbformat": 4,
  "nbformat_minor": 0,
  "metadata": {
    "colab": {
      "provenance": [],
      "collapsed_sections": [],
      "include_colab_link": true
    },
    "kernelspec": {
      "name": "python3",
      "display_name": "Python 3"
    },
    "language_info": {
      "name": "python"
    }
  },
  "cells": [
    {
      "cell_type": "markdown",
      "metadata": {
        "id": "view-in-github",
        "colab_type": "text"
      },
      "source": [
        "<a href=\"https://colab.research.google.com/github/YSCodez/35-APIHunters/blob/main/jobRecom.ipynb\" target=\"_parent\"><img src=\"https://colab.research.google.com/assets/colab-badge.svg\" alt=\"Open In Colab\"/></a>"
      ]
    },
    {
      "cell_type": "code",
      "source": [
        "pip install scikit-learn==0.18.2"
      ],
      "metadata": {
        "id": "FTAmpykJHtA2",
        "colab": {
          "base_uri": "https://localhost:8080/"
        },
        "outputId": "f1aa3181-f529-43ab-df15-5b51753204c2"
      },
      "execution_count": 66,
      "outputs": [
        {
          "output_type": "stream",
          "name": "stdout",
          "text": [
            "Looking in indexes: https://pypi.org/simple, https://us-python.pkg.dev/colab-wheels/public/simple/\n",
            "Collecting scikit-learn==0.18.2\n",
            "  Using cached scikit-learn-0.18.2.tar.gz (9.2 MB)\n",
            "Building wheels for collected packages: scikit-learn\n",
            "  Building wheel for scikit-learn (setup.py) ... \u001b[?25lerror\n",
            "\u001b[31m  ERROR: Failed building wheel for scikit-learn\u001b[0m\n",
            "\u001b[?25h  Running setup.py clean for scikit-learn\n",
            "Failed to build scikit-learn\n",
            "Installing collected packages: scikit-learn\n",
            "  Attempting uninstall: scikit-learn\n",
            "    Found existing installation: scikit-learn 1.0.2\n",
            "    Uninstalling scikit-learn-1.0.2:\n",
            "      Successfully uninstalled scikit-learn-1.0.2\n",
            "    Running setup.py install for scikit-learn ... \u001b[?25l\u001b[?25herror\n",
            "  Rolling back uninstall of scikit-learn\n",
            "  Moving to /usr/local/lib/python3.7/dist-packages/scikit_learn-1.0.2.dist-info/\n",
            "   from /usr/local/lib/python3.7/dist-packages/~cikit_learn-1.0.2.dist-info\n",
            "  Moving to /usr/local/lib/python3.7/dist-packages/scikit_learn.libs/\n",
            "   from /usr/local/lib/python3.7/dist-packages/~cikit_learn.libs\n",
            "  Moving to /usr/local/lib/python3.7/dist-packages/sklearn/\n",
            "   from /usr/local/lib/python3.7/dist-packages/~klearn\n",
            "\u001b[31mERROR: Command errored out with exit status 1: /usr/bin/python3 -u -c 'import io, os, sys, setuptools, tokenize; sys.argv[0] = '\"'\"'/tmp/pip-install-2dffe2ba/scikit-learn_c853ee880fe94ad49eec945e592d31b6/setup.py'\"'\"'; __file__='\"'\"'/tmp/pip-install-2dffe2ba/scikit-learn_c853ee880fe94ad49eec945e592d31b6/setup.py'\"'\"';f = getattr(tokenize, '\"'\"'open'\"'\"', open)(__file__) if os.path.exists(__file__) else io.StringIO('\"'\"'from setuptools import setup; setup()'\"'\"');code = f.read().replace('\"'\"'\\r\\n'\"'\"', '\"'\"'\\n'\"'\"');f.close();exec(compile(code, __file__, '\"'\"'exec'\"'\"'))' install --record /tmp/pip-record-6g981lwi/install-record.txt --single-version-externally-managed --compile --install-headers /usr/local/include/python3.7/scikit-learn Check the logs for full command output.\u001b[0m\n"
          ]
        }
      ]
    },
    {
      "cell_type": "code",
      "source": [
        "pip install python-rake"
      ],
      "metadata": {
        "id": "fDKoh8e8FJei",
        "colab": {
          "base_uri": "https://localhost:8080/"
        },
        "outputId": "ac158173-2350-4d10-e52b-1ab0ca40296d"
      },
      "execution_count": 67,
      "outputs": [
        {
          "output_type": "stream",
          "name": "stdout",
          "text": [
            "Looking in indexes: https://pypi.org/simple, https://us-python.pkg.dev/colab-wheels/public/simple/\n",
            "Requirement already satisfied: python-rake in /usr/local/lib/python3.7/dist-packages (1.5.0)\n"
          ]
        }
      ]
    },
    {
      "cell_type": "code",
      "source": [
        "pip install scikit-plot"
      ],
      "metadata": {
        "id": "WZB6h9_NJuFl",
        "colab": {
          "base_uri": "https://localhost:8080/"
        },
        "outputId": "3fdf11b1-9829-4bbb-d70e-c3add9e4dbcf"
      },
      "execution_count": 68,
      "outputs": [
        {
          "output_type": "stream",
          "name": "stdout",
          "text": [
            "Looking in indexes: https://pypi.org/simple, https://us-python.pkg.dev/colab-wheels/public/simple/\n",
            "Requirement already satisfied: scikit-plot in /usr/local/lib/python3.7/dist-packages (0.3.7)\n",
            "Requirement already satisfied: scikit-learn>=0.18 in /usr/local/lib/python3.7/dist-packages (from scikit-plot) (1.0.2)\n",
            "Requirement already satisfied: joblib>=0.10 in /usr/local/lib/python3.7/dist-packages (from scikit-plot) (1.2.0)\n",
            "Requirement already satisfied: matplotlib>=1.4.0 in /usr/local/lib/python3.7/dist-packages (from scikit-plot) (3.2.2)\n",
            "Requirement already satisfied: scipy>=0.9 in /usr/local/lib/python3.7/dist-packages (from scikit-plot) (1.7.3)\n",
            "Requirement already satisfied: kiwisolver>=1.0.1 in /usr/local/lib/python3.7/dist-packages (from matplotlib>=1.4.0->scikit-plot) (1.4.4)\n",
            "Requirement already satisfied: python-dateutil>=2.1 in /usr/local/lib/python3.7/dist-packages (from matplotlib>=1.4.0->scikit-plot) (2.8.2)\n",
            "Requirement already satisfied: cycler>=0.10 in /usr/local/lib/python3.7/dist-packages (from matplotlib>=1.4.0->scikit-plot) (0.11.0)\n",
            "Requirement already satisfied: numpy>=1.11 in /usr/local/lib/python3.7/dist-packages (from matplotlib>=1.4.0->scikit-plot) (1.21.6)\n",
            "Requirement already satisfied: pyparsing!=2.0.4,!=2.1.2,!=2.1.6,>=2.0.1 in /usr/local/lib/python3.7/dist-packages (from matplotlib>=1.4.0->scikit-plot) (3.0.9)\n",
            "Requirement already satisfied: typing-extensions in /usr/local/lib/python3.7/dist-packages (from kiwisolver>=1.0.1->matplotlib>=1.4.0->scikit-plot) (4.1.1)\n",
            "Requirement already satisfied: six>=1.5 in /usr/local/lib/python3.7/dist-packages (from python-dateutil>=2.1->matplotlib>=1.4.0->scikit-plot) (1.15.0)\n",
            "Requirement already satisfied: threadpoolctl>=2.0.0 in /usr/local/lib/python3.7/dist-packages (from scikit-learn>=0.18->scikit-plot) (3.1.0)\n"
          ]
        }
      ]
    },
    {
      "cell_type": "code",
      "source": [
        "pip install sklearn"
      ],
      "metadata": {
        "id": "kX0Dou_sF2mn",
        "colab": {
          "base_uri": "https://localhost:8080/"
        },
        "outputId": "3f4a6305-65e7-43bd-9515-5aa5e4e5abcf"
      },
      "execution_count": 69,
      "outputs": [
        {
          "output_type": "stream",
          "name": "stdout",
          "text": [
            "Looking in indexes: https://pypi.org/simple, https://us-python.pkg.dev/colab-wheels/public/simple/\n",
            "Requirement already satisfied: sklearn in /usr/local/lib/python3.7/dist-packages (0.0)\n",
            "Requirement already satisfied: scikit-learn in /usr/local/lib/python3.7/dist-packages (from sklearn) (1.0.2)\n",
            "Requirement already satisfied: scipy>=1.1.0 in /usr/local/lib/python3.7/dist-packages (from scikit-learn->sklearn) (1.7.3)\n",
            "Requirement already satisfied: joblib>=0.11 in /usr/local/lib/python3.7/dist-packages (from scikit-learn->sklearn) (1.2.0)\n",
            "Requirement already satisfied: numpy>=1.14.6 in /usr/local/lib/python3.7/dist-packages (from scikit-learn->sklearn) (1.21.6)\n",
            "Requirement already satisfied: threadpoolctl>=2.0.0 in /usr/local/lib/python3.7/dist-packages (from scikit-learn->sklearn) (3.1.0)\n"
          ]
        }
      ]
    },
    {
      "cell_type": "code",
      "source": [
        "pip install scikit-learn"
      ],
      "metadata": {
        "id": "KO7dapkmFrpN",
        "colab": {
          "base_uri": "https://localhost:8080/"
        },
        "outputId": "abce27de-b96a-4685-fd6e-214195387918"
      },
      "execution_count": 70,
      "outputs": [
        {
          "output_type": "stream",
          "name": "stdout",
          "text": [
            "Looking in indexes: https://pypi.org/simple, https://us-python.pkg.dev/colab-wheels/public/simple/\n",
            "Requirement already satisfied: scikit-learn in /usr/local/lib/python3.7/dist-packages (1.0.2)\n",
            "Requirement already satisfied: joblib>=0.11 in /usr/local/lib/python3.7/dist-packages (from scikit-learn) (1.2.0)\n",
            "Requirement already satisfied: threadpoolctl>=2.0.0 in /usr/local/lib/python3.7/dist-packages (from scikit-learn) (3.1.0)\n",
            "Requirement already satisfied: scipy>=1.1.0 in /usr/local/lib/python3.7/dist-packages (from scikit-learn) (1.7.3)\n",
            "Requirement already satisfied: numpy>=1.14.6 in /usr/local/lib/python3.7/dist-packages (from scikit-learn) (1.21.6)\n"
          ]
        }
      ]
    },
    {
      "cell_type": "code",
      "source": [
        "pip install -U scikit-learn"
      ],
      "metadata": {
        "id": "mgpmCusUHZ6G",
        "colab": {
          "base_uri": "https://localhost:8080/"
        },
        "outputId": "f29b59cf-41dc-422b-ec31-1e6a8003d1b7"
      },
      "execution_count": 71,
      "outputs": [
        {
          "output_type": "stream",
          "name": "stdout",
          "text": [
            "Looking in indexes: https://pypi.org/simple, https://us-python.pkg.dev/colab-wheels/public/simple/\n",
            "Requirement already satisfied: scikit-learn in /usr/local/lib/python3.7/dist-packages (1.0.2)\n",
            "Requirement already satisfied: numpy>=1.14.6 in /usr/local/lib/python3.7/dist-packages (from scikit-learn) (1.21.6)\n",
            "Requirement already satisfied: joblib>=0.11 in /usr/local/lib/python3.7/dist-packages (from scikit-learn) (1.2.0)\n",
            "Requirement already satisfied: threadpoolctl>=2.0.0 in /usr/local/lib/python3.7/dist-packages (from scikit-learn) (3.1.0)\n",
            "Requirement already satisfied: scipy>=1.1.0 in /usr/local/lib/python3.7/dist-packages (from scikit-learn) (1.7.3)\n"
          ]
        }
      ]
    },
    {
      "cell_type": "code",
      "execution_count": 72,
      "metadata": {
        "id": "I5UisrExpWMp",
        "colab": {
          "base_uri": "https://localhost:8080/"
        },
        "outputId": "3fe46b1f-4581-4d25-d84a-6dcef8032168"
      },
      "outputs": [
        {
          "output_type": "stream",
          "name": "stderr",
          "text": [
            "[nltk_data] Downloading package punkt to /root/nltk_data...\n",
            "[nltk_data]   Package punkt is already up-to-date!\n"
          ]
        }
      ],
      "source": [
        "import pandas as pd\n",
        "import RAKE\n",
        "import operator\n",
        "import re\n",
        "import nltk\n",
        "nltk.download('punkt')\n",
        "import matplotlib.pyplot as plt\n",
        "from sklearn.feature_extraction.text import TfidfVectorizer\n",
        "from sklearn.cluster import KMeans\n",
        "import seaborn as sns\n",
        "from sklearn.decomposition import PCA\n",
        "from sklearn.model_selection import train_test_split\n",
        "from sklearn.tree import DecisionTreeClassifier\n",
        "import matplotlib.pyplot as plt\n",
        "from sklearn.metrics import confusion_matrix,make_scorer,classification_report,accuracy_score\n",
        "import scikitplot as skplt\n",
        "from sklearn import svm\n",
        "from sklearn.metrics.pairwise import cosine_similarity\n",
        "from sklearn.metrics import roc_curve,roc_auc_score\n",
        "import warnings\n",
        "warnings.filterwarnings('ignore')\n",
        "import numpy as np"
      ]
    },
    {
      "cell_type": "code",
      "source": [
        "from google.colab import drive\n",
        "drive.mount('/content/drive/')"
      ],
      "metadata": {
        "id": "1T_yhLEVJ1hB",
        "colab": {
          "base_uri": "https://localhost:8080/"
        },
        "outputId": "988572ce-bf78-46e7-e218-1fc4b313b4c2"
      },
      "execution_count": 77,
      "outputs": [
        {
          "output_type": "stream",
          "name": "stdout",
          "text": [
            "Drive already mounted at /content/drive/; to attempt to forcibly remount, call drive.mount(\"/content/drive/\", force_remount=True).\n"
          ]
        }
      ]
    },
    {
      "cell_type": "code",
      "source": [
        "job_input = '/content/drive/MyDrive/Colab Notebooks/marketing_sample_for_naukri_com-jobs__20190701_20190830__30k_data.csv'\n",
        "df_job = pd.read_csv(job_input)\n",
        "df_job.head()"
      ],
      "metadata": {
        "id": "EhFbzh7IOWq-",
        "colab": {
          "base_uri": "https://localhost:8080/",
          "height": 617
        },
        "outputId": "4ecf3526-c63d-4d05-cc09-ecb3e0950aa1"
      },
      "execution_count": 79,
      "outputs": [
        {
          "output_type": "execute_result",
          "data": {
            "text/plain": [
              "                            Uniq Id            Crawl Timestamp  \\\n",
              "0  9be62c49a0b7ebe982a4af1edaa7bc5f  2019-07-05 01:46:07 +0000   \n",
              "1  3c52d436e39f596b22519da2612f6a56  2019-07-06 08:04:50 +0000   \n",
              "2  ffad8a2396c60be2bf6d0e2ff47c58d4  2019-08-05 15:50:44 +0000   \n",
              "3  7b921f51b5c2fb862b4a5f7a54c37f75  2019-08-05 15:31:56 +0000   \n",
              "4  2d8b7d44e138a54d5dc841163138de50  2019-07-05 02:48:29 +0000   \n",
              "\n",
              "                               Job Title                    Job Salary  \\\n",
              "0                  Digital Media Planner   Not Disclosed by Recruiter    \n",
              "1               Online Bidding Executive   Not Disclosed by Recruiter    \n",
              "2   Trainee Research/ Research Executive   Not Disclosed by Recruiter    \n",
              "3                      Technical Support      2,00,000 - 4,00,000 PA.    \n",
              "4                Software Test Engineer    Not Disclosed by Recruiter    \n",
              "\n",
              "  Job Experience Required                                         Key Skills  \\\n",
              "0              5 - 10 yrs                      Media Planning| Digital Media   \n",
              "1               2 - 5 yrs   pre sales| closing| software knowledge| clien...   \n",
              "2               0 - 1 yrs   Computer science| Fabrication| Quality check|...   \n",
              "3               0 - 5 yrs                                  Technical Support   \n",
              "4               2 - 5 yrs   manual testing| test engineering| test cases|...   \n",
              "\n",
              "                                Role Category   Location  \\\n",
              "0                                 Advertising     Mumbai   \n",
              "1                                Retail Sales  Pune,Pune   \n",
              "2                                         R&D    Gurgaon   \n",
              "3  Admin/Maintenance/Security/Datawarehousing     Mumbai   \n",
              "4                        Programming & Design  Hyderabad   \n",
              "\n",
              "                                     Functional Area  \\\n",
              "0  Marketing , Advertising , MR , PR , Media Plan...   \n",
              "1              Sales , Retail , Business Development   \n",
              "2                           Engineering Design , R&D   \n",
              "3  IT Software - Application Programming , Mainte...   \n",
              "4                         IT Software - QA & Testing   \n",
              "\n",
              "                                Industry                              Role  \n",
              "0  Advertising, PR, MR, Event Management  Media Planning Executive/Manager  \n",
              "1         IT-Software, Software Services           Sales Executive/Officer  \n",
              "2                  Recruitment, Staffing                     R&D Executive  \n",
              "3         IT-Software, Software Services        Technical Support Engineer  \n",
              "4         IT-Software, Software Services                  Testing Engineer  "
            ],
            "text/html": [
              "\n",
              "  <div id=\"df-12f2593a-8c2a-43a9-aea7-02c1b0cfb78c\">\n",
              "    <div class=\"colab-df-container\">\n",
              "      <div>\n",
              "<style scoped>\n",
              "    .dataframe tbody tr th:only-of-type {\n",
              "        vertical-align: middle;\n",
              "    }\n",
              "\n",
              "    .dataframe tbody tr th {\n",
              "        vertical-align: top;\n",
              "    }\n",
              "\n",
              "    .dataframe thead th {\n",
              "        text-align: right;\n",
              "    }\n",
              "</style>\n",
              "<table border=\"1\" class=\"dataframe\">\n",
              "  <thead>\n",
              "    <tr style=\"text-align: right;\">\n",
              "      <th></th>\n",
              "      <th>Uniq Id</th>\n",
              "      <th>Crawl Timestamp</th>\n",
              "      <th>Job Title</th>\n",
              "      <th>Job Salary</th>\n",
              "      <th>Job Experience Required</th>\n",
              "      <th>Key Skills</th>\n",
              "      <th>Role Category</th>\n",
              "      <th>Location</th>\n",
              "      <th>Functional Area</th>\n",
              "      <th>Industry</th>\n",
              "      <th>Role</th>\n",
              "    </tr>\n",
              "  </thead>\n",
              "  <tbody>\n",
              "    <tr>\n",
              "      <th>0</th>\n",
              "      <td>9be62c49a0b7ebe982a4af1edaa7bc5f</td>\n",
              "      <td>2019-07-05 01:46:07 +0000</td>\n",
              "      <td>Digital Media Planner</td>\n",
              "      <td>Not Disclosed by Recruiter</td>\n",
              "      <td>5 - 10 yrs</td>\n",
              "      <td>Media Planning| Digital Media</td>\n",
              "      <td>Advertising</td>\n",
              "      <td>Mumbai</td>\n",
              "      <td>Marketing , Advertising , MR , PR , Media Plan...</td>\n",
              "      <td>Advertising, PR, MR, Event Management</td>\n",
              "      <td>Media Planning Executive/Manager</td>\n",
              "    </tr>\n",
              "    <tr>\n",
              "      <th>1</th>\n",
              "      <td>3c52d436e39f596b22519da2612f6a56</td>\n",
              "      <td>2019-07-06 08:04:50 +0000</td>\n",
              "      <td>Online Bidding Executive</td>\n",
              "      <td>Not Disclosed by Recruiter</td>\n",
              "      <td>2 - 5 yrs</td>\n",
              "      <td>pre sales| closing| software knowledge| clien...</td>\n",
              "      <td>Retail Sales</td>\n",
              "      <td>Pune,Pune</td>\n",
              "      <td>Sales , Retail , Business Development</td>\n",
              "      <td>IT-Software, Software Services</td>\n",
              "      <td>Sales Executive/Officer</td>\n",
              "    </tr>\n",
              "    <tr>\n",
              "      <th>2</th>\n",
              "      <td>ffad8a2396c60be2bf6d0e2ff47c58d4</td>\n",
              "      <td>2019-08-05 15:50:44 +0000</td>\n",
              "      <td>Trainee Research/ Research Executive</td>\n",
              "      <td>Not Disclosed by Recruiter</td>\n",
              "      <td>0 - 1 yrs</td>\n",
              "      <td>Computer science| Fabrication| Quality check|...</td>\n",
              "      <td>R&amp;D</td>\n",
              "      <td>Gurgaon</td>\n",
              "      <td>Engineering Design , R&amp;D</td>\n",
              "      <td>Recruitment, Staffing</td>\n",
              "      <td>R&amp;D Executive</td>\n",
              "    </tr>\n",
              "    <tr>\n",
              "      <th>3</th>\n",
              "      <td>7b921f51b5c2fb862b4a5f7a54c37f75</td>\n",
              "      <td>2019-08-05 15:31:56 +0000</td>\n",
              "      <td>Technical Support</td>\n",
              "      <td>2,00,000 - 4,00,000 PA.</td>\n",
              "      <td>0 - 5 yrs</td>\n",
              "      <td>Technical Support</td>\n",
              "      <td>Admin/Maintenance/Security/Datawarehousing</td>\n",
              "      <td>Mumbai</td>\n",
              "      <td>IT Software - Application Programming , Mainte...</td>\n",
              "      <td>IT-Software, Software Services</td>\n",
              "      <td>Technical Support Engineer</td>\n",
              "    </tr>\n",
              "    <tr>\n",
              "      <th>4</th>\n",
              "      <td>2d8b7d44e138a54d5dc841163138de50</td>\n",
              "      <td>2019-07-05 02:48:29 +0000</td>\n",
              "      <td>Software Test Engineer</td>\n",
              "      <td>Not Disclosed by Recruiter</td>\n",
              "      <td>2 - 5 yrs</td>\n",
              "      <td>manual testing| test engineering| test cases|...</td>\n",
              "      <td>Programming &amp; Design</td>\n",
              "      <td>Hyderabad</td>\n",
              "      <td>IT Software - QA &amp; Testing</td>\n",
              "      <td>IT-Software, Software Services</td>\n",
              "      <td>Testing Engineer</td>\n",
              "    </tr>\n",
              "  </tbody>\n",
              "</table>\n",
              "</div>\n",
              "      <button class=\"colab-df-convert\" onclick=\"convertToInteractive('df-12f2593a-8c2a-43a9-aea7-02c1b0cfb78c')\"\n",
              "              title=\"Convert this dataframe to an interactive table.\"\n",
              "              style=\"display:none;\">\n",
              "        \n",
              "  <svg xmlns=\"http://www.w3.org/2000/svg\" height=\"24px\"viewBox=\"0 0 24 24\"\n",
              "       width=\"24px\">\n",
              "    <path d=\"M0 0h24v24H0V0z\" fill=\"none\"/>\n",
              "    <path d=\"M18.56 5.44l.94 2.06.94-2.06 2.06-.94-2.06-.94-.94-2.06-.94 2.06-2.06.94zm-11 1L8.5 8.5l.94-2.06 2.06-.94-2.06-.94L8.5 2.5l-.94 2.06-2.06.94zm10 10l.94 2.06.94-2.06 2.06-.94-2.06-.94-.94-2.06-.94 2.06-2.06.94z\"/><path d=\"M17.41 7.96l-1.37-1.37c-.4-.4-.92-.59-1.43-.59-.52 0-1.04.2-1.43.59L10.3 9.45l-7.72 7.72c-.78.78-.78 2.05 0 2.83L4 21.41c.39.39.9.59 1.41.59.51 0 1.02-.2 1.41-.59l7.78-7.78 2.81-2.81c.8-.78.8-2.07 0-2.86zM5.41 20L4 18.59l7.72-7.72 1.47 1.35L5.41 20z\"/>\n",
              "  </svg>\n",
              "      </button>\n",
              "      \n",
              "  <style>\n",
              "    .colab-df-container {\n",
              "      display:flex;\n",
              "      flex-wrap:wrap;\n",
              "      gap: 12px;\n",
              "    }\n",
              "\n",
              "    .colab-df-convert {\n",
              "      background-color: #E8F0FE;\n",
              "      border: none;\n",
              "      border-radius: 50%;\n",
              "      cursor: pointer;\n",
              "      display: none;\n",
              "      fill: #1967D2;\n",
              "      height: 32px;\n",
              "      padding: 0 0 0 0;\n",
              "      width: 32px;\n",
              "    }\n",
              "\n",
              "    .colab-df-convert:hover {\n",
              "      background-color: #E2EBFA;\n",
              "      box-shadow: 0px 1px 2px rgba(60, 64, 67, 0.3), 0px 1px 3px 1px rgba(60, 64, 67, 0.15);\n",
              "      fill: #174EA6;\n",
              "    }\n",
              "\n",
              "    [theme=dark] .colab-df-convert {\n",
              "      background-color: #3B4455;\n",
              "      fill: #D2E3FC;\n",
              "    }\n",
              "\n",
              "    [theme=dark] .colab-df-convert:hover {\n",
              "      background-color: #434B5C;\n",
              "      box-shadow: 0px 1px 3px 1px rgba(0, 0, 0, 0.15);\n",
              "      filter: drop-shadow(0px 1px 2px rgba(0, 0, 0, 0.3));\n",
              "      fill: #FFFFFF;\n",
              "    }\n",
              "  </style>\n",
              "\n",
              "      <script>\n",
              "        const buttonEl =\n",
              "          document.querySelector('#df-12f2593a-8c2a-43a9-aea7-02c1b0cfb78c button.colab-df-convert');\n",
              "        buttonEl.style.display =\n",
              "          google.colab.kernel.accessAllowed ? 'block' : 'none';\n",
              "\n",
              "        async function convertToInteractive(key) {\n",
              "          const element = document.querySelector('#df-12f2593a-8c2a-43a9-aea7-02c1b0cfb78c');\n",
              "          const dataTable =\n",
              "            await google.colab.kernel.invokeFunction('convertToInteractive',\n",
              "                                                     [key], {});\n",
              "          if (!dataTable) return;\n",
              "\n",
              "          const docLinkHtml = 'Like what you see? Visit the ' +\n",
              "            '<a target=\"_blank\" href=https://colab.research.google.com/notebooks/data_table.ipynb>data table notebook</a>'\n",
              "            + ' to learn more about interactive tables.';\n",
              "          element.innerHTML = '';\n",
              "          dataTable['output_type'] = 'display_data';\n",
              "          await google.colab.output.renderOutput(dataTable, element);\n",
              "          const docLink = document.createElement('div');\n",
              "          docLink.innerHTML = docLinkHtml;\n",
              "          element.appendChild(docLink);\n",
              "        }\n",
              "      </script>\n",
              "    </div>\n",
              "  </div>\n",
              "  "
            ]
          },
          "metadata": {},
          "execution_count": 79
        }
      ]
    },
    {
      "cell_type": "code",
      "source": [
        "df_job.drop('Uniq Id',axis=1, inplace= True)"
      ],
      "metadata": {
        "id": "sjIwD-dkbJ2X"
      },
      "execution_count": 80,
      "outputs": []
    },
    {
      "cell_type": "code",
      "source": [
        "df_job.drop('Crawl Timestamp',axis=1, inplace= True)\n",
        "df_job.drop('Job Salary',axis=1, inplace= True)\n",
        "df_job.drop('Job Experience Required',axis=1, inplace= True)\n",
        "df_job.drop('Role Category',axis=1, inplace= True)\n",
        "df_job.drop('Location',axis=1, inplace= True)\n",
        "df_job.drop('Functional Area',axis=1, inplace= True)\n",
        "#df_job.drop('Industry',axis=1, inplace= True)"
      ],
      "metadata": {
        "id": "O90N4whRbrDp"
      },
      "execution_count": 81,
      "outputs": []
    },
    {
      "cell_type": "code",
      "source": [
        "df_job.head()"
      ],
      "metadata": {
        "id": "bXfFOBagcUNy",
        "colab": {
          "base_uri": "https://localhost:8080/",
          "height": 206
        },
        "outputId": "2cc58704-cc09-49dc-ac28-4266a95cf364"
      },
      "execution_count": 82,
      "outputs": [
        {
          "output_type": "execute_result",
          "data": {
            "text/plain": [
              "                               Job Title  \\\n",
              "0                  Digital Media Planner   \n",
              "1               Online Bidding Executive   \n",
              "2   Trainee Research/ Research Executive   \n",
              "3                      Technical Support   \n",
              "4                Software Test Engineer    \n",
              "\n",
              "                                          Key Skills  \\\n",
              "0                      Media Planning| Digital Media   \n",
              "1   pre sales| closing| software knowledge| clien...   \n",
              "2   Computer science| Fabrication| Quality check|...   \n",
              "3                                  Technical Support   \n",
              "4   manual testing| test engineering| test cases|...   \n",
              "\n",
              "                                Industry                              Role  \n",
              "0  Advertising, PR, MR, Event Management  Media Planning Executive/Manager  \n",
              "1         IT-Software, Software Services           Sales Executive/Officer  \n",
              "2                  Recruitment, Staffing                     R&D Executive  \n",
              "3         IT-Software, Software Services        Technical Support Engineer  \n",
              "4         IT-Software, Software Services                  Testing Engineer  "
            ],
            "text/html": [
              "\n",
              "  <div id=\"df-d69c3210-9f3a-455f-975c-85625ada26e0\">\n",
              "    <div class=\"colab-df-container\">\n",
              "      <div>\n",
              "<style scoped>\n",
              "    .dataframe tbody tr th:only-of-type {\n",
              "        vertical-align: middle;\n",
              "    }\n",
              "\n",
              "    .dataframe tbody tr th {\n",
              "        vertical-align: top;\n",
              "    }\n",
              "\n",
              "    .dataframe thead th {\n",
              "        text-align: right;\n",
              "    }\n",
              "</style>\n",
              "<table border=\"1\" class=\"dataframe\">\n",
              "  <thead>\n",
              "    <tr style=\"text-align: right;\">\n",
              "      <th></th>\n",
              "      <th>Job Title</th>\n",
              "      <th>Key Skills</th>\n",
              "      <th>Industry</th>\n",
              "      <th>Role</th>\n",
              "    </tr>\n",
              "  </thead>\n",
              "  <tbody>\n",
              "    <tr>\n",
              "      <th>0</th>\n",
              "      <td>Digital Media Planner</td>\n",
              "      <td>Media Planning| Digital Media</td>\n",
              "      <td>Advertising, PR, MR, Event Management</td>\n",
              "      <td>Media Planning Executive/Manager</td>\n",
              "    </tr>\n",
              "    <tr>\n",
              "      <th>1</th>\n",
              "      <td>Online Bidding Executive</td>\n",
              "      <td>pre sales| closing| software knowledge| clien...</td>\n",
              "      <td>IT-Software, Software Services</td>\n",
              "      <td>Sales Executive/Officer</td>\n",
              "    </tr>\n",
              "    <tr>\n",
              "      <th>2</th>\n",
              "      <td>Trainee Research/ Research Executive</td>\n",
              "      <td>Computer science| Fabrication| Quality check|...</td>\n",
              "      <td>Recruitment, Staffing</td>\n",
              "      <td>R&amp;D Executive</td>\n",
              "    </tr>\n",
              "    <tr>\n",
              "      <th>3</th>\n",
              "      <td>Technical Support</td>\n",
              "      <td>Technical Support</td>\n",
              "      <td>IT-Software, Software Services</td>\n",
              "      <td>Technical Support Engineer</td>\n",
              "    </tr>\n",
              "    <tr>\n",
              "      <th>4</th>\n",
              "      <td>Software Test Engineer</td>\n",
              "      <td>manual testing| test engineering| test cases|...</td>\n",
              "      <td>IT-Software, Software Services</td>\n",
              "      <td>Testing Engineer</td>\n",
              "    </tr>\n",
              "  </tbody>\n",
              "</table>\n",
              "</div>\n",
              "      <button class=\"colab-df-convert\" onclick=\"convertToInteractive('df-d69c3210-9f3a-455f-975c-85625ada26e0')\"\n",
              "              title=\"Convert this dataframe to an interactive table.\"\n",
              "              style=\"display:none;\">\n",
              "        \n",
              "  <svg xmlns=\"http://www.w3.org/2000/svg\" height=\"24px\"viewBox=\"0 0 24 24\"\n",
              "       width=\"24px\">\n",
              "    <path d=\"M0 0h24v24H0V0z\" fill=\"none\"/>\n",
              "    <path d=\"M18.56 5.44l.94 2.06.94-2.06 2.06-.94-2.06-.94-.94-2.06-.94 2.06-2.06.94zm-11 1L8.5 8.5l.94-2.06 2.06-.94-2.06-.94L8.5 2.5l-.94 2.06-2.06.94zm10 10l.94 2.06.94-2.06 2.06-.94-2.06-.94-.94-2.06-.94 2.06-2.06.94z\"/><path d=\"M17.41 7.96l-1.37-1.37c-.4-.4-.92-.59-1.43-.59-.52 0-1.04.2-1.43.59L10.3 9.45l-7.72 7.72c-.78.78-.78 2.05 0 2.83L4 21.41c.39.39.9.59 1.41.59.51 0 1.02-.2 1.41-.59l7.78-7.78 2.81-2.81c.8-.78.8-2.07 0-2.86zM5.41 20L4 18.59l7.72-7.72 1.47 1.35L5.41 20z\"/>\n",
              "  </svg>\n",
              "      </button>\n",
              "      \n",
              "  <style>\n",
              "    .colab-df-container {\n",
              "      display:flex;\n",
              "      flex-wrap:wrap;\n",
              "      gap: 12px;\n",
              "    }\n",
              "\n",
              "    .colab-df-convert {\n",
              "      background-color: #E8F0FE;\n",
              "      border: none;\n",
              "      border-radius: 50%;\n",
              "      cursor: pointer;\n",
              "      display: none;\n",
              "      fill: #1967D2;\n",
              "      height: 32px;\n",
              "      padding: 0 0 0 0;\n",
              "      width: 32px;\n",
              "    }\n",
              "\n",
              "    .colab-df-convert:hover {\n",
              "      background-color: #E2EBFA;\n",
              "      box-shadow: 0px 1px 2px rgba(60, 64, 67, 0.3), 0px 1px 3px 1px rgba(60, 64, 67, 0.15);\n",
              "      fill: #174EA6;\n",
              "    }\n",
              "\n",
              "    [theme=dark] .colab-df-convert {\n",
              "      background-color: #3B4455;\n",
              "      fill: #D2E3FC;\n",
              "    }\n",
              "\n",
              "    [theme=dark] .colab-df-convert:hover {\n",
              "      background-color: #434B5C;\n",
              "      box-shadow: 0px 1px 3px 1px rgba(0, 0, 0, 0.15);\n",
              "      filter: drop-shadow(0px 1px 2px rgba(0, 0, 0, 0.3));\n",
              "      fill: #FFFFFF;\n",
              "    }\n",
              "  </style>\n",
              "\n",
              "      <script>\n",
              "        const buttonEl =\n",
              "          document.querySelector('#df-d69c3210-9f3a-455f-975c-85625ada26e0 button.colab-df-convert');\n",
              "        buttonEl.style.display =\n",
              "          google.colab.kernel.accessAllowed ? 'block' : 'none';\n",
              "\n",
              "        async function convertToInteractive(key) {\n",
              "          const element = document.querySelector('#df-d69c3210-9f3a-455f-975c-85625ada26e0');\n",
              "          const dataTable =\n",
              "            await google.colab.kernel.invokeFunction('convertToInteractive',\n",
              "                                                     [key], {});\n",
              "          if (!dataTable) return;\n",
              "\n",
              "          const docLinkHtml = 'Like what you see? Visit the ' +\n",
              "            '<a target=\"_blank\" href=https://colab.research.google.com/notebooks/data_table.ipynb>data table notebook</a>'\n",
              "            + ' to learn more about interactive tables.';\n",
              "          element.innerHTML = '';\n",
              "          dataTable['output_type'] = 'display_data';\n",
              "          await google.colab.output.renderOutput(dataTable, element);\n",
              "          const docLink = document.createElement('div');\n",
              "          docLink.innerHTML = docLinkHtml;\n",
              "          element.appendChild(docLink);\n",
              "        }\n",
              "      </script>\n",
              "    </div>\n",
              "  </div>\n",
              "  "
            ]
          },
          "metadata": {},
          "execution_count": 82
        }
      ]
    },
    {
      "cell_type": "code",
      "source": [
        "df_job.drop_duplicates()\n",
        "df_job.head(5)"
      ],
      "metadata": {
        "id": "guBMdnHQdIPP",
        "colab": {
          "base_uri": "https://localhost:8080/",
          "height": 206
        },
        "outputId": "82c00b41-5b73-4939-85f2-556fd606922e"
      },
      "execution_count": 83,
      "outputs": [
        {
          "output_type": "execute_result",
          "data": {
            "text/plain": [
              "                               Job Title  \\\n",
              "0                  Digital Media Planner   \n",
              "1               Online Bidding Executive   \n",
              "2   Trainee Research/ Research Executive   \n",
              "3                      Technical Support   \n",
              "4                Software Test Engineer    \n",
              "\n",
              "                                          Key Skills  \\\n",
              "0                      Media Planning| Digital Media   \n",
              "1   pre sales| closing| software knowledge| clien...   \n",
              "2   Computer science| Fabrication| Quality check|...   \n",
              "3                                  Technical Support   \n",
              "4   manual testing| test engineering| test cases|...   \n",
              "\n",
              "                                Industry                              Role  \n",
              "0  Advertising, PR, MR, Event Management  Media Planning Executive/Manager  \n",
              "1         IT-Software, Software Services           Sales Executive/Officer  \n",
              "2                  Recruitment, Staffing                     R&D Executive  \n",
              "3         IT-Software, Software Services        Technical Support Engineer  \n",
              "4         IT-Software, Software Services                  Testing Engineer  "
            ],
            "text/html": [
              "\n",
              "  <div id=\"df-dcbd0c63-dbb8-44f0-9db6-1d4c188eea44\">\n",
              "    <div class=\"colab-df-container\">\n",
              "      <div>\n",
              "<style scoped>\n",
              "    .dataframe tbody tr th:only-of-type {\n",
              "        vertical-align: middle;\n",
              "    }\n",
              "\n",
              "    .dataframe tbody tr th {\n",
              "        vertical-align: top;\n",
              "    }\n",
              "\n",
              "    .dataframe thead th {\n",
              "        text-align: right;\n",
              "    }\n",
              "</style>\n",
              "<table border=\"1\" class=\"dataframe\">\n",
              "  <thead>\n",
              "    <tr style=\"text-align: right;\">\n",
              "      <th></th>\n",
              "      <th>Job Title</th>\n",
              "      <th>Key Skills</th>\n",
              "      <th>Industry</th>\n",
              "      <th>Role</th>\n",
              "    </tr>\n",
              "  </thead>\n",
              "  <tbody>\n",
              "    <tr>\n",
              "      <th>0</th>\n",
              "      <td>Digital Media Planner</td>\n",
              "      <td>Media Planning| Digital Media</td>\n",
              "      <td>Advertising, PR, MR, Event Management</td>\n",
              "      <td>Media Planning Executive/Manager</td>\n",
              "    </tr>\n",
              "    <tr>\n",
              "      <th>1</th>\n",
              "      <td>Online Bidding Executive</td>\n",
              "      <td>pre sales| closing| software knowledge| clien...</td>\n",
              "      <td>IT-Software, Software Services</td>\n",
              "      <td>Sales Executive/Officer</td>\n",
              "    </tr>\n",
              "    <tr>\n",
              "      <th>2</th>\n",
              "      <td>Trainee Research/ Research Executive</td>\n",
              "      <td>Computer science| Fabrication| Quality check|...</td>\n",
              "      <td>Recruitment, Staffing</td>\n",
              "      <td>R&amp;D Executive</td>\n",
              "    </tr>\n",
              "    <tr>\n",
              "      <th>3</th>\n",
              "      <td>Technical Support</td>\n",
              "      <td>Technical Support</td>\n",
              "      <td>IT-Software, Software Services</td>\n",
              "      <td>Technical Support Engineer</td>\n",
              "    </tr>\n",
              "    <tr>\n",
              "      <th>4</th>\n",
              "      <td>Software Test Engineer</td>\n",
              "      <td>manual testing| test engineering| test cases|...</td>\n",
              "      <td>IT-Software, Software Services</td>\n",
              "      <td>Testing Engineer</td>\n",
              "    </tr>\n",
              "  </tbody>\n",
              "</table>\n",
              "</div>\n",
              "      <button class=\"colab-df-convert\" onclick=\"convertToInteractive('df-dcbd0c63-dbb8-44f0-9db6-1d4c188eea44')\"\n",
              "              title=\"Convert this dataframe to an interactive table.\"\n",
              "              style=\"display:none;\">\n",
              "        \n",
              "  <svg xmlns=\"http://www.w3.org/2000/svg\" height=\"24px\"viewBox=\"0 0 24 24\"\n",
              "       width=\"24px\">\n",
              "    <path d=\"M0 0h24v24H0V0z\" fill=\"none\"/>\n",
              "    <path d=\"M18.56 5.44l.94 2.06.94-2.06 2.06-.94-2.06-.94-.94-2.06-.94 2.06-2.06.94zm-11 1L8.5 8.5l.94-2.06 2.06-.94-2.06-.94L8.5 2.5l-.94 2.06-2.06.94zm10 10l.94 2.06.94-2.06 2.06-.94-2.06-.94-.94-2.06-.94 2.06-2.06.94z\"/><path d=\"M17.41 7.96l-1.37-1.37c-.4-.4-.92-.59-1.43-.59-.52 0-1.04.2-1.43.59L10.3 9.45l-7.72 7.72c-.78.78-.78 2.05 0 2.83L4 21.41c.39.39.9.59 1.41.59.51 0 1.02-.2 1.41-.59l7.78-7.78 2.81-2.81c.8-.78.8-2.07 0-2.86zM5.41 20L4 18.59l7.72-7.72 1.47 1.35L5.41 20z\"/>\n",
              "  </svg>\n",
              "      </button>\n",
              "      \n",
              "  <style>\n",
              "    .colab-df-container {\n",
              "      display:flex;\n",
              "      flex-wrap:wrap;\n",
              "      gap: 12px;\n",
              "    }\n",
              "\n",
              "    .colab-df-convert {\n",
              "      background-color: #E8F0FE;\n",
              "      border: none;\n",
              "      border-radius: 50%;\n",
              "      cursor: pointer;\n",
              "      display: none;\n",
              "      fill: #1967D2;\n",
              "      height: 32px;\n",
              "      padding: 0 0 0 0;\n",
              "      width: 32px;\n",
              "    }\n",
              "\n",
              "    .colab-df-convert:hover {\n",
              "      background-color: #E2EBFA;\n",
              "      box-shadow: 0px 1px 2px rgba(60, 64, 67, 0.3), 0px 1px 3px 1px rgba(60, 64, 67, 0.15);\n",
              "      fill: #174EA6;\n",
              "    }\n",
              "\n",
              "    [theme=dark] .colab-df-convert {\n",
              "      background-color: #3B4455;\n",
              "      fill: #D2E3FC;\n",
              "    }\n",
              "\n",
              "    [theme=dark] .colab-df-convert:hover {\n",
              "      background-color: #434B5C;\n",
              "      box-shadow: 0px 1px 3px 1px rgba(0, 0, 0, 0.15);\n",
              "      filter: drop-shadow(0px 1px 2px rgba(0, 0, 0, 0.3));\n",
              "      fill: #FFFFFF;\n",
              "    }\n",
              "  </style>\n",
              "\n",
              "      <script>\n",
              "        const buttonEl =\n",
              "          document.querySelector('#df-dcbd0c63-dbb8-44f0-9db6-1d4c188eea44 button.colab-df-convert');\n",
              "        buttonEl.style.display =\n",
              "          google.colab.kernel.accessAllowed ? 'block' : 'none';\n",
              "\n",
              "        async function convertToInteractive(key) {\n",
              "          const element = document.querySelector('#df-dcbd0c63-dbb8-44f0-9db6-1d4c188eea44');\n",
              "          const dataTable =\n",
              "            await google.colab.kernel.invokeFunction('convertToInteractive',\n",
              "                                                     [key], {});\n",
              "          if (!dataTable) return;\n",
              "\n",
              "          const docLinkHtml = 'Like what you see? Visit the ' +\n",
              "            '<a target=\"_blank\" href=https://colab.research.google.com/notebooks/data_table.ipynb>data table notebook</a>'\n",
              "            + ' to learn more about interactive tables.';\n",
              "          element.innerHTML = '';\n",
              "          dataTable['output_type'] = 'display_data';\n",
              "          await google.colab.output.renderOutput(dataTable, element);\n",
              "          const docLink = document.createElement('div');\n",
              "          docLink.innerHTML = docLinkHtml;\n",
              "          element.appendChild(docLink);\n",
              "        }\n",
              "      </script>\n",
              "    </div>\n",
              "  </div>\n",
              "  "
            ]
          },
          "metadata": {},
          "execution_count": 83
        }
      ]
    },
    {
      "cell_type": "code",
      "source": [
        "# check to see if there are any missing values\n",
        "print(df_job.isnull().values.any())\n",
        "\n",
        "# as it is true, check number of missing values in each row\n",
        "df_job.isna().sum() "
      ],
      "metadata": {
        "id": "NAr2A7yIezvj",
        "colab": {
          "base_uri": "https://localhost:8080/"
        },
        "outputId": "b6c5f8af-33ae-4299-ce34-1911ab4c832d"
      },
      "execution_count": 84,
      "outputs": [
        {
          "output_type": "stream",
          "name": "stdout",
          "text": [
            "True\n"
          ]
        },
        {
          "output_type": "execute_result",
          "data": {
            "text/plain": [
              "Job Title      587\n",
              "Key Skills    1271\n",
              "Industry       573\n",
              "Role           901\n",
              "dtype: int64"
            ]
          },
          "metadata": {},
          "execution_count": 84
        }
      ]
    },
    {
      "cell_type": "code",
      "source": [
        "# drop all rows that have NaN values\n",
        "df_job.dropna(inplace=True)"
      ],
      "metadata": {
        "id": "iGUIAMKQj2Sf"
      },
      "execution_count": 85,
      "outputs": []
    },
    {
      "cell_type": "code",
      "source": [
        "# check for NaN value again\n",
        "df_job.isna().sum()"
      ],
      "metadata": {
        "id": "MYnW7aOXli0W",
        "colab": {
          "base_uri": "https://localhost:8080/"
        },
        "outputId": "c57d89a9-26cb-4938-ea44-b36f747ddf85"
      },
      "execution_count": 86,
      "outputs": [
        {
          "output_type": "execute_result",
          "data": {
            "text/plain": [
              "Job Title     0\n",
              "Key Skills    0\n",
              "Industry      0\n",
              "Role          0\n",
              "dtype: int64"
            ]
          },
          "metadata": {},
          "execution_count": 86
        }
      ]
    },
    {
      "cell_type": "code",
      "source": [
        "jobNotReq = df_job[df_job['Industry'] != ('IT-Software, Software Services' or 'IT-Software/Software Services')].index\n",
        "df_job.drop(jobNotReq, inplace=True)"
      ],
      "metadata": {
        "id": "nxTzyx8O1ows"
      },
      "execution_count": 87,
      "outputs": []
    },
    {
      "cell_type": "code",
      "source": [
        "df_job[\"Job Title\"].value_counts()[:5]"
      ],
      "metadata": {
        "id": "n51nv8w64Kni",
        "colab": {
          "base_uri": "https://localhost:8080/"
        },
        "outputId": "df33bcad-5342-419e-fc31-c053583352b7"
      },
      "execution_count": 88,
      "outputs": [
        {
          "output_type": "execute_result",
          "data": {
            "text/plain": [
              " PHP Developer        89\n",
              " Android Developer    55\n",
              " Java Developer       54\n",
              " Software Engineer    51\n",
              " Dot Net Developer    46\n",
              "Name: Job Title, dtype: int64"
            ]
          },
          "metadata": {},
          "execution_count": 88
        }
      ]
    },
    {
      "cell_type": "code",
      "source": [
        "df_job.head(5)"
      ],
      "metadata": {
        "id": "BMq_HhqU5WNd",
        "colab": {
          "base_uri": "https://localhost:8080/",
          "height": 206
        },
        "outputId": "13195194-b58d-498e-e9df-9799c2c0a3f1"
      },
      "execution_count": 89,
      "outputs": [
        {
          "output_type": "execute_result",
          "data": {
            "text/plain": [
              "                     Job Title  \\\n",
              "1     Online Bidding Executive   \n",
              "3            Technical Support   \n",
              "4      Software Test Engineer    \n",
              "5   Adobe Analytics Specialist   \n",
              "7            Devops Architect    \n",
              "\n",
              "                                          Key Skills  \\\n",
              "1   pre sales| closing| software knowledge| clien...   \n",
              "3                                  Technical Support   \n",
              "4   manual testing| test engineering| test cases|...   \n",
              "5   adobe experience manager| digital| digital ma...   \n",
              "7   TFS| Azure| Git| VSTS| Docker| DynaTrace| Spl...   \n",
              "\n",
              "                         Industry                        Role  \n",
              "1  IT-Software, Software Services     Sales Executive/Officer  \n",
              "3  IT-Software, Software Services  Technical Support Engineer  \n",
              "4  IT-Software, Software Services            Testing Engineer  \n",
              "5  IT-Software, Software Services              System Analyst  \n",
              "7  IT-Software, Software Services         Technical Architect  "
            ],
            "text/html": [
              "\n",
              "  <div id=\"df-328fcf7e-0aab-4480-b789-1faddea02b00\">\n",
              "    <div class=\"colab-df-container\">\n",
              "      <div>\n",
              "<style scoped>\n",
              "    .dataframe tbody tr th:only-of-type {\n",
              "        vertical-align: middle;\n",
              "    }\n",
              "\n",
              "    .dataframe tbody tr th {\n",
              "        vertical-align: top;\n",
              "    }\n",
              "\n",
              "    .dataframe thead th {\n",
              "        text-align: right;\n",
              "    }\n",
              "</style>\n",
              "<table border=\"1\" class=\"dataframe\">\n",
              "  <thead>\n",
              "    <tr style=\"text-align: right;\">\n",
              "      <th></th>\n",
              "      <th>Job Title</th>\n",
              "      <th>Key Skills</th>\n",
              "      <th>Industry</th>\n",
              "      <th>Role</th>\n",
              "    </tr>\n",
              "  </thead>\n",
              "  <tbody>\n",
              "    <tr>\n",
              "      <th>1</th>\n",
              "      <td>Online Bidding Executive</td>\n",
              "      <td>pre sales| closing| software knowledge| clien...</td>\n",
              "      <td>IT-Software, Software Services</td>\n",
              "      <td>Sales Executive/Officer</td>\n",
              "    </tr>\n",
              "    <tr>\n",
              "      <th>3</th>\n",
              "      <td>Technical Support</td>\n",
              "      <td>Technical Support</td>\n",
              "      <td>IT-Software, Software Services</td>\n",
              "      <td>Technical Support Engineer</td>\n",
              "    </tr>\n",
              "    <tr>\n",
              "      <th>4</th>\n",
              "      <td>Software Test Engineer</td>\n",
              "      <td>manual testing| test engineering| test cases|...</td>\n",
              "      <td>IT-Software, Software Services</td>\n",
              "      <td>Testing Engineer</td>\n",
              "    </tr>\n",
              "    <tr>\n",
              "      <th>5</th>\n",
              "      <td>Adobe Analytics Specialist</td>\n",
              "      <td>adobe experience manager| digital| digital ma...</td>\n",
              "      <td>IT-Software, Software Services</td>\n",
              "      <td>System Analyst</td>\n",
              "    </tr>\n",
              "    <tr>\n",
              "      <th>7</th>\n",
              "      <td>Devops Architect</td>\n",
              "      <td>TFS| Azure| Git| VSTS| Docker| DynaTrace| Spl...</td>\n",
              "      <td>IT-Software, Software Services</td>\n",
              "      <td>Technical Architect</td>\n",
              "    </tr>\n",
              "  </tbody>\n",
              "</table>\n",
              "</div>\n",
              "      <button class=\"colab-df-convert\" onclick=\"convertToInteractive('df-328fcf7e-0aab-4480-b789-1faddea02b00')\"\n",
              "              title=\"Convert this dataframe to an interactive table.\"\n",
              "              style=\"display:none;\">\n",
              "        \n",
              "  <svg xmlns=\"http://www.w3.org/2000/svg\" height=\"24px\"viewBox=\"0 0 24 24\"\n",
              "       width=\"24px\">\n",
              "    <path d=\"M0 0h24v24H0V0z\" fill=\"none\"/>\n",
              "    <path d=\"M18.56 5.44l.94 2.06.94-2.06 2.06-.94-2.06-.94-.94-2.06-.94 2.06-2.06.94zm-11 1L8.5 8.5l.94-2.06 2.06-.94-2.06-.94L8.5 2.5l-.94 2.06-2.06.94zm10 10l.94 2.06.94-2.06 2.06-.94-2.06-.94-.94-2.06-.94 2.06-2.06.94z\"/><path d=\"M17.41 7.96l-1.37-1.37c-.4-.4-.92-.59-1.43-.59-.52 0-1.04.2-1.43.59L10.3 9.45l-7.72 7.72c-.78.78-.78 2.05 0 2.83L4 21.41c.39.39.9.59 1.41.59.51 0 1.02-.2 1.41-.59l7.78-7.78 2.81-2.81c.8-.78.8-2.07 0-2.86zM5.41 20L4 18.59l7.72-7.72 1.47 1.35L5.41 20z\"/>\n",
              "  </svg>\n",
              "      </button>\n",
              "      \n",
              "  <style>\n",
              "    .colab-df-container {\n",
              "      display:flex;\n",
              "      flex-wrap:wrap;\n",
              "      gap: 12px;\n",
              "    }\n",
              "\n",
              "    .colab-df-convert {\n",
              "      background-color: #E8F0FE;\n",
              "      border: none;\n",
              "      border-radius: 50%;\n",
              "      cursor: pointer;\n",
              "      display: none;\n",
              "      fill: #1967D2;\n",
              "      height: 32px;\n",
              "      padding: 0 0 0 0;\n",
              "      width: 32px;\n",
              "    }\n",
              "\n",
              "    .colab-df-convert:hover {\n",
              "      background-color: #E2EBFA;\n",
              "      box-shadow: 0px 1px 2px rgba(60, 64, 67, 0.3), 0px 1px 3px 1px rgba(60, 64, 67, 0.15);\n",
              "      fill: #174EA6;\n",
              "    }\n",
              "\n",
              "    [theme=dark] .colab-df-convert {\n",
              "      background-color: #3B4455;\n",
              "      fill: #D2E3FC;\n",
              "    }\n",
              "\n",
              "    [theme=dark] .colab-df-convert:hover {\n",
              "      background-color: #434B5C;\n",
              "      box-shadow: 0px 1px 3px 1px rgba(0, 0, 0, 0.15);\n",
              "      filter: drop-shadow(0px 1px 2px rgba(0, 0, 0, 0.3));\n",
              "      fill: #FFFFFF;\n",
              "    }\n",
              "  </style>\n",
              "\n",
              "      <script>\n",
              "        const buttonEl =\n",
              "          document.querySelector('#df-328fcf7e-0aab-4480-b789-1faddea02b00 button.colab-df-convert');\n",
              "        buttonEl.style.display =\n",
              "          google.colab.kernel.accessAllowed ? 'block' : 'none';\n",
              "\n",
              "        async function convertToInteractive(key) {\n",
              "          const element = document.querySelector('#df-328fcf7e-0aab-4480-b789-1faddea02b00');\n",
              "          const dataTable =\n",
              "            await google.colab.kernel.invokeFunction('convertToInteractive',\n",
              "                                                     [key], {});\n",
              "          if (!dataTable) return;\n",
              "\n",
              "          const docLinkHtml = 'Like what you see? Visit the ' +\n",
              "            '<a target=\"_blank\" href=https://colab.research.google.com/notebooks/data_table.ipynb>data table notebook</a>'\n",
              "            + ' to learn more about interactive tables.';\n",
              "          element.innerHTML = '';\n",
              "          dataTable['output_type'] = 'display_data';\n",
              "          await google.colab.output.renderOutput(dataTable, element);\n",
              "          const docLink = document.createElement('div');\n",
              "          docLink.innerHTML = docLinkHtml;\n",
              "          element.appendChild(docLink);\n",
              "        }\n",
              "      </script>\n",
              "    </div>\n",
              "  </div>\n",
              "  "
            ]
          },
          "metadata": {},
          "execution_count": 89
        }
      ]
    },
    {
      "cell_type": "code",
      "source": [
        "df_job.drop('Industry',axis =1, inplace= True)"
      ],
      "metadata": {
        "id": "jI84fk9b59g1"
      },
      "execution_count": 90,
      "outputs": []
    },
    {
      "cell_type": "code",
      "source": [
        "\n",
        "vectorizer = TfidfVectorizer()\n",
        "X = vectorizer.fit_transform(df_job['Job Title'].values)\n",
        "analyze = vectorizer.build_analyzer()\n",
        "features = vectorizer.get_feature_names()"
      ],
      "metadata": {
        "id": "0Cd986O5A84f"
      },
      "execution_count": 91,
      "outputs": []
    },
    {
      "cell_type": "code",
      "source": [
        "# within cluster sum of squares\n",
        "wcss = []\n",
        "for i in range(1, 15):\n",
        "  kmeans=KMeans(n_clusters = i, init = 'k-means++', random_state = 42, max_iter= 600, n_init=1)\n",
        "  kmeans.fit(X)\n",
        "  wcss.append(kmeans.inertia_)"
      ],
      "metadata": {
        "id": "Lk-plLeYBVIN"
      },
      "execution_count": 92,
      "outputs": []
    },
    {
      "cell_type": "code",
      "source": [
        "#plotting the graph\n",
        "plt.figure(figsize=(10,5))\n",
        "sns.lineplot(range(1,15),wcss,marker= 'o',color='red')\n",
        "plt.title('The elbow Method')\n",
        "plt.xlabel('Number of clusters')\n",
        "plt.ylabel('WCSS')\n",
        "plt.show()"
      ],
      "metadata": {
        "id": "HsQCD2KJE003",
        "colab": {
          "base_uri": "https://localhost:8080/",
          "height": 350
        },
        "outputId": "e72ccbcc-a02e-4f1c-f833-1f3d92547b1f"
      },
      "execution_count": 93,
      "outputs": [
        {
          "output_type": "display_data",
          "data": {
            "text/plain": [
              "<Figure size 720x360 with 1 Axes>"
            ],
            "image/png": "[encoded data removed]"
          },
          "metadata": {
            "needs_background": "light"
          }
        }
      ]
    },
    {
      "cell_type": "code",
      "source": [
        "true_k = 13\n",
        "model = KMeans(n_clusters=true_k, init= 'k-means++', max_iter= 600, n_init=1,random_state = 42)\n",
        "pred =model.fit_predict(X)\n",
        "order_centroids= model.cluster_centers_.argsort()[:, ::-1]\n",
        "terms = vectorizer.get_feature_names()"
      ],
      "metadata": {
        "id": "V8j0-QiIGdp9"
      },
      "execution_count": 94,
      "outputs": []
    },
    {
      "cell_type": "code",
      "source": [
        "from sklearn.cluster import KMeans \n",
        "from sklearn.decomposition import PCA\n",
        "\n",
        "sklearn_pca = PCA(n_components = 2)\n",
        "\n",
        "Y_sklearn = sklearn_pca.fit_transform(X.toarray())\n",
        "kmeans = KMeans(n_clusters =15, init= 'k-means++', max_iter=600, n_init=1, random_state=42)\n",
        "fitted =kmeans.fit(Y_sklearn)\n",
        "prediction = kmeans.predict(Y_sklearn)\n",
        "\n",
        "plt.scatter(Y_sklearn[:, 0], Y_sklearn[:, 1], c= prediction, s=50, cmap='viridis')\n",
        "\n",
        "centers = kmeans.cluster_centers_\n",
        "\n",
        "plt.scatter(centers[:, 0], centers[:, 1], c='black', s=300, alpha=0.6);"
      ],
      "metadata": {
        "id": "VhybrjTNOgV2",
        "colab": {
          "base_uri": "https://localhost:8080/",
          "height": 265
        },
        "outputId": "79633439-296e-4bb7-bc5a-db9d72310117"
      },
      "execution_count": 95,
      "outputs": [
        {
          "output_type": "display_data",
          "data": {
            "text/plain": [
              "<Figure size 432x288 with 1 Axes>"
            ],
            "image/png": "[encoded data removed]"
          },
          "metadata": {
            "needs_background": "light"
          }
        }
      ]
    },
    {
      "cell_type": "code",
      "source": [
        "from sklearn.metrics import silhouette_score\n",
        "print('KMeans Scaled Silhouette Score: {}'.format(silhouette_score(X, model.labels_, metric='euclidean')))"
      ],
      "metadata": {
        "id": "BkgFG0OoaJbS",
        "colab": {
          "base_uri": "https://localhost:8080/"
        },
        "outputId": "7ee35e89-0582-4346-db1b-596bda0e033f"
      },
      "execution_count": 96,
      "outputs": [
        {
          "output_type": "stream",
          "name": "stdout",
          "text": [
            "KMeans Scaled Silhouette Score: 0.05306325592615184\n"
          ]
        }
      ]
    },
    {
      "cell_type": "code",
      "source": [
        "def get_top_keywords(data, clusters, labels, n_terms):\n",
        "  df = pd.DataFrame(data.todense()).groupby(clusters).mean()\n",
        "\n",
        "  for i,r in df.iterrows():\n",
        "    print('\\nCluster {}'.format(i))\n",
        "    print(','.join([labels[t] for t in np.argsort(r)[-n_terms:]]))\n",
        "\n",
        "get_top_keywords(X, pred, features, 80)  \n",
        "\n"
      ],
      "metadata": {
        "id": "1bEgeiy0b0Ib",
        "colab": {
          "base_uri": "https://localhost:8080/"
        },
        "outputId": "7ee75109-0aab-49c8-9d01-50ab8a7b58cf"
      },
      "execution_count": 97,
      "outputs": [
        {
          "output_type": "stream",
          "name": "stdout",
          "text": [
            "\n",
            "Cluster 0\n",
            "dba,assurance,server,leader,services,big,selenium,trainer,delivery,expert,infrastructure,digital,bangalore,to,coordinator,engineering,scientist,principal,programmer,executives,admin,linux,service,in,with,database,team,sql,engineers,professional,hr,seo,operations,design,web,project,tester,systems,product,oracle,technology,developer,cloud,quality,sap,marketing,solution,head,management,and,testing,application,network,system,security,software,qa,recruiter,automation,content,sr,test,development,java,associate,it,specialist,writer,devops,sales,administrator,support,business,data,senior,technical,architect,lead,analyst,engineer\n",
            "\n",
            "Cluster 1\n",
            "ios,analyst,only,engineer,exp,freshers,top,to,stack,executive,hr,ui,client,web,kolkata,full,contract,tester,admin,sales,manager,dotnet,us,yrs,vacancy,joiners,senior,on,angular,and,an,leading,experience,data,oracle,process,testing,c2h,sr,based,bpo,international,recruiter,support,product,at,technical,gurgaon,of,position,sap,lead,software,excellent,chennai,noida,net,walk,it,mumbai,fresher,mnc,hyderabad,company,requirement,with,pune,openings,location,job,looking,opportunity,bangalore,java,in,immediate,developer,urgent,opening,for\n",
            "\n",
            "Cluster 2\n",
            "specialist,ssis,whitefield,srdot,analyst,architect_gaurav_bangalore_techjini,develoepr,chandigarh,webapi,job,powerbuilder,silverlight,domain,server,location,bangalore,thane,delhi,javascript,bfsi,technologies,urgent,java,mnc,angularjs,gurgaon,member,yrs,windows,required,professionals,framework,support,jr,hiring,tech,entity,noida,product,project,core,fresher,wcf,development,pune,professional,with,microsoft,api,wpf,engineer,immediate,leader,angular,programmers,junior,mumbai,aspdot,application,vb,stack,full,opening,web,for,programmer,architect,team,sql,sr,technical,lead,software,developers,senior,mvc,asp,developer,dot,net\n",
            "\n",
            "Cluster 3\n",
            "in,gurgaon,development,datastage,webservices,hadoop,laravel,mongodb,php,servicenow,product,swift,hybrid,mvc,nodejs,years,cloud,location,hyderabad,abap,ux,back,objective,teradata,oracle,html5,pune,with,junior,embedded,big,django,sap,drupal,mumbai,bangalore,reactjs,software,sharepoint,informatica,core,css,sql,iphone,mean,app,dotnet,data,native,hibernate,fullstack,frontend,wordpress,html,node,angularjs,angular,spring,j2ee,salesforce,lead,backend,mobile,magento,sr,javascript,react,js,application,front,ui,python,web,end,full,stack,ios,senior,java,developer\n",
            "\n",
            "Cluster 4\n",
            "react,pune,client,product,node,gurgaon,cloud,wpf,ms,ror,angularjs,services,angular,ooad,reactjs,django,backend,specialist,iii,core,staff,plm,analytics,freshers,india,noida,marketing,tools,sales,mainframe,years,kernel,programmer,data,android,job,in,platform,assurance,support,mobile,ios,tester,ui,js,engineers,system,systems,full,php,sql,team,trainee,stack,javascript,junior,delv,j2ee,it,automation,engineering,architect,python,associate,qa,quality,ii,embedded,principal,testing,net,lead,test,java,development,sr,developer,senior,engineer,software\n",
            "\n",
            "Cluster 5\n",
            "analytics,project,immediate,mdg,openshift,application,enterprise,otm,contract,principal,non,to,ps,managing,consulting,location,bw,campaign,and,pm,ebs,webdynpro,peoplesoft,dba,services,opening,successfactors,catalogued,applications,grc,plm,hyderabad,module,fin,co,ax,role,ms,apps,fusion,data,web,cloud,pp,hcm,bangalore,integration,it,business,bi,fi,designation,techno,implementation,erp,for,finance,pi,dynamics,solution,scm,crm,sr,basis,hana,package,sales,mm,modules,sd,security,fico,senior,oracle,associate,abap,technical,functional,sap,consultant\n",
            "\n",
            "Cluster 6\n",
            "epay,environment,engineer_java,engineer_gurgaon,engineer_azure,engineer_1,engineer_,epbcs,engineer_4,and,with,frontend,expert,hiring,opening,looking,to,or,chennai,j2ee,iphone,adeeba,sector,required,freshers,ahmedabad,east,position,webservices,sqlite,xml,designing,nos,specialist,127,santacruz,05,testing,coding,systems,fresher,flutter,studio,restful,iot,noida,git,react,php,gurgaon,location,platform,integration,yrs,api,joiner,for,jr,junior,mumbai,native,immediate,bangalore,development,json,senior,kotlin,software,apps,app,lead,java,engineer,developers,mobile,application,ios,sdk,developer,android\n",
            "\n",
            "Cluster 7\n",
            "legal,security,web,customer,procurement,b2b,channel,executive,solution,mumbai,bdm,in,location,safety,support,bangalore,implementation,sap,data,startup,test,for,us,junior,gurgaon,planning,associate,insurance,key,accounts,brand,transition,inside,technology,application,team,regional,analytics,content,relationship,recruitment,asst,devops,media,success,architect,presales,corporate,and,talent,lead,client,acquisition,deputy,service,services,finance,operations,enterprise,hr,management,area,software,sr,digital,delivery,program,engineering,assistant,it,senior,marketing,account,technical,product,sales,development,business,project,manager\n",
            "\n",
            "Cluster 8\n",
            "html5,application,gurgaon,interactive,contract,joiners,in,css3,editor,sharepoint,india,indesign,specialist,amp,male,joiner,designing,pillarmind,marketing,image,wireframe,sketch,design,cum,site,walkin,network,invision,professional,position,art,delhi,product,user,flash,interior,icon,remote,studio,odoo,location,it,seniour,software,game,video,jewelry,apps,principal,experience,associate,years,ahmedabad,end,front,immediate,chennai,hiring,and,css,for,mobile,gui,html,website,visual,graphics,jr,developer,creative,sr,photoshop,instructional,senior,illustrator,ui,ux,graphic,web,designer\n",
            "\n",
            "Cluster 9\n",
            "reputed,excellent,agent,package,calling,recruitment,opp,specialist,proces,of,sale,spot,currently,campaign,candidates,selling,exp,mass,intl,search,experienced,looking,on,experience,opportunity,candidate,going,service,urgent,recruiting,call,tsa,at,outbound,apply,senior,caller,join,huge,care,is,vacancy,require,with,joining,need,kolkata,group,mega,callers,job,sr,night,executives,immediate,opening,lead,required,cce,customer,adeeba,fixed,salary,associate,executive,technical,hiring,bpo,in,uk,shift,for,sales,international,us,voice,support,process,inbound,tech\n",
            "\n",
            "Cluster 10\n",
            "desktop,requirement,uk,mainframe,role,full,dotnet,experience,experienced,freshers,years,data,php,js,consultant,automation,looking,sap,opportunity,sql,voice,recruiter,manager,cce,at,cloud,and,shift,executive,testing,group,lead,tech,of,ios,to,position,software,product,bpo,yrs,sales,we,are,adeeba,kolkata,engineer,us,based,python,immediate,leading,chennai,process,technical,with,gurgaon,support,international,senior,net,sr,web,noida,pune,mumbai,bangalore,company,hyderabad,it,mnc,is,in,location,developer,java,urgent,developers,for,hiring\n",
            "\n",
            "Cluster 11\n",
            "internship,looking,in,yrs,63,programmers,python,sql,required,leaders,level,react,java,architect,social,integration,api,walk,engine,requirement,hiring,frontend,native,lamp,codeignitor,designer,aws,mid,suitecrm,delhi,implementation,frameworks,chennai,gurgaon,years,experienced,develope,for,symfony,development,with,immediate,location,angular,project,zend,fresher,urgent,html,css,backend,software,joining,noida,website,javascript,full,technical,stack,core,mvc,and,framework,codeigniter,junior,leader,magento,lead,sr,drupal,team,wordpress,programmer,laravel,mysql,web,developers,senior,developer,php\n",
            "\n",
            "Cluster 12\n",
            "lead,freshers,year,quality,pune,program,opening,need,crm,receptionist,talent,payroll,only,international,in,billing,recruitment,administration,functional,cum,client,noida,survey,acquisition,field,officer,commerce,retail,mis,direct,mumbai,process,telemarketing,media,bidding,jr,social,generation,delivery,bdm,training,management,admin,email,channel,briefing,software,data,for,finance,generalist,content,account,bd,care,service,desk,technical,office,online,operations,front,manager,senior,assistant,it,tele,sr,inside,accounts,support,customer,digital,seo,hr,marketing,sales,development,business,executive\n"
          ]
        }
      ]
    },
    {
      "cell_type": "code",
      "source": [
        "label = []\n",
        "for i in df_job['Job Title'].values:\n",
        "\n",
        "  vec = vectorizer.transform([i])\n",
        "  pred = model.predict(vec)\n",
        "  if pred == 0:\n",
        "    label.append('DataBase Administrator')\n",
        "  elif pred == 1:\n",
        "    label.append('UI Developer') \n",
        "  elif pred == 2:\n",
        "    label.append('Cloud Architect')\n",
        "  elif pred == 3:\n",
        "    label.append('Full Stack Web Developer')  \n",
        "  elif pred == 4:\n",
        "    label.append('Backend Developer')    \n",
        "  elif pred ==6:\n",
        "    label.append('IOS/Android Developer')\n",
        "  elif pred ==7:\n",
        "    label.append('Devops/Software Engineer') \n",
        "  elif pred ==8:\n",
        "    label.append('Web Designer') \n",
        "  elif pred ==9:\n",
        "    label.append('Technical Support')  \n",
        "  elif pred ==10:\n",
        "    label.append('Devops/Software Engineer') \n",
        "  else :\n",
        "    label.append('Full Stack Web Developer') \n",
        "    \n",
        "df_job['Label']= label\n",
        "df_job.head(5)\n"
      ],
      "metadata": {
        "id": "0RzvzfAhg76S",
        "colab": {
          "base_uri": "https://localhost:8080/",
          "height": 206
        },
        "outputId": "708781e6-ea54-4631-b639-cec21e017a2d"
      },
      "execution_count": 98,
      "outputs": [
        {
          "output_type": "execute_result",
          "data": {
            "text/plain": [
              "                     Job Title  \\\n",
              "1     Online Bidding Executive   \n",
              "3            Technical Support   \n",
              "4      Software Test Engineer    \n",
              "5   Adobe Analytics Specialist   \n",
              "7            Devops Architect    \n",
              "\n",
              "                                          Key Skills  \\\n",
              "1   pre sales| closing| software knowledge| clien...   \n",
              "3                                  Technical Support   \n",
              "4   manual testing| test engineering| test cases|...   \n",
              "5   adobe experience manager| digital| digital ma...   \n",
              "7   TFS| Azure| Git| VSTS| Docker| DynaTrace| Spl...   \n",
              "\n",
              "                         Role                     Label  \n",
              "1     Sales Executive/Officer  Full Stack Web Developer  \n",
              "3  Technical Support Engineer    DataBase Administrator  \n",
              "4            Testing Engineer         Backend Developer  \n",
              "5              System Analyst    DataBase Administrator  \n",
              "7         Technical Architect    DataBase Administrator  "
            ],
            "text/html": [
              "\n",
              "  <div id=\"df-463e9079-5739-4515-b093-e47315aa36c9\">\n",
              "    <div class=\"colab-df-container\">\n",
              "      <div>\n",
              "<style scoped>\n",
              "    .dataframe tbody tr th:only-of-type {\n",
              "        vertical-align: middle;\n",
              "    }\n",
              "\n",
              "    .dataframe tbody tr th {\n",
              "        vertical-align: top;\n",
              "    }\n",
              "\n",
              "    .dataframe thead th {\n",
              "        text-align: right;\n",
              "    }\n",
              "</style>\n",
              "<table border=\"1\" class=\"dataframe\">\n",
              "  <thead>\n",
              "    <tr style=\"text-align: right;\">\n",
              "      <th></th>\n",
              "      <th>Job Title</th>\n",
              "      <th>Key Skills</th>\n",
              "      <th>Role</th>\n",
              "      <th>Label</th>\n",
              "    </tr>\n",
              "  </thead>\n",
              "  <tbody>\n",
              "    <tr>\n",
              "      <th>1</th>\n",
              "      <td>Online Bidding Executive</td>\n",
              "      <td>pre sales| closing| software knowledge| clien...</td>\n",
              "      <td>Sales Executive/Officer</td>\n",
              "      <td>Full Stack Web Developer</td>\n",
              "    </tr>\n",
              "    <tr>\n",
              "      <th>3</th>\n",
              "      <td>Technical Support</td>\n",
              "      <td>Technical Support</td>\n",
              "      <td>Technical Support Engineer</td>\n",
              "      <td>DataBase Administrator</td>\n",
              "    </tr>\n",
              "    <tr>\n",
              "      <th>4</th>\n",
              "      <td>Software Test Engineer</td>\n",
              "      <td>manual testing| test engineering| test cases|...</td>\n",
              "      <td>Testing Engineer</td>\n",
              "      <td>Backend Developer</td>\n",
              "    </tr>\n",
              "    <tr>\n",
              "      <th>5</th>\n",
              "      <td>Adobe Analytics Specialist</td>\n",
              "      <td>adobe experience manager| digital| digital ma...</td>\n",
              "      <td>System Analyst</td>\n",
              "      <td>DataBase Administrator</td>\n",
              "    </tr>\n",
              "    <tr>\n",
              "      <th>7</th>\n",
              "      <td>Devops Architect</td>\n",
              "      <td>TFS| Azure| Git| VSTS| Docker| DynaTrace| Spl...</td>\n",
              "      <td>Technical Architect</td>\n",
              "      <td>DataBase Administrator</td>\n",
              "    </tr>\n",
              "  </tbody>\n",
              "</table>\n",
              "</div>\n",
              "      <button class=\"colab-df-convert\" onclick=\"convertToInteractive('df-463e9079-5739-4515-b093-e47315aa36c9')\"\n",
              "              title=\"Convert this dataframe to an interactive table.\"\n",
              "              style=\"display:none;\">\n",
              "        \n",
              "  <svg xmlns=\"http://www.w3.org/2000/svg\" height=\"24px\"viewBox=\"0 0 24 24\"\n",
              "       width=\"24px\">\n",
              "    <path d=\"M0 0h24v24H0V0z\" fill=\"none\"/>\n",
              "    <path d=\"M18.56 5.44l.94 2.06.94-2.06 2.06-.94-2.06-.94-.94-2.06-.94 2.06-2.06.94zm-11 1L8.5 8.5l.94-2.06 2.06-.94-2.06-.94L8.5 2.5l-.94 2.06-2.06.94zm10 10l.94 2.06.94-2.06 2.06-.94-2.06-.94-.94-2.06-.94 2.06-2.06.94z\"/><path d=\"M17.41 7.96l-1.37-1.37c-.4-.4-.92-.59-1.43-.59-.52 0-1.04.2-1.43.59L10.3 9.45l-7.72 7.72c-.78.78-.78 2.05 0 2.83L4 21.41c.39.39.9.59 1.41.59.51 0 1.02-.2 1.41-.59l7.78-7.78 2.81-2.81c.8-.78.8-2.07 0-2.86zM5.41 20L4 18.59l7.72-7.72 1.47 1.35L5.41 20z\"/>\n",
              "  </svg>\n",
              "      </button>\n",
              "      \n",
              "  <style>\n",
              "    .colab-df-container {\n",
              "      display:flex;\n",
              "      flex-wrap:wrap;\n",
              "      gap: 12px;\n",
              "    }\n",
              "\n",
              "    .colab-df-convert {\n",
              "      background-color: #E8F0FE;\n",
              "      border: none;\n",
              "      border-radius: 50%;\n",
              "      cursor: pointer;\n",
              "      display: none;\n",
              "      fill: #1967D2;\n",
              "      height: 32px;\n",
              "      padding: 0 0 0 0;\n",
              "      width: 32px;\n",
              "    }\n",
              "\n",
              "    .colab-df-convert:hover {\n",
              "      background-color: #E2EBFA;\n",
              "      box-shadow: 0px 1px 2px rgba(60, 64, 67, 0.3), 0px 1px 3px 1px rgba(60, 64, 67, 0.15);\n",
              "      fill: #174EA6;\n",
              "    }\n",
              "\n",
              "    [theme=dark] .colab-df-convert {\n",
              "      background-color: #3B4455;\n",
              "      fill: #D2E3FC;\n",
              "    }\n",
              "\n",
              "    [theme=dark] .colab-df-convert:hover {\n",
              "      background-color: #434B5C;\n",
              "      box-shadow: 0px 1px 3px 1px rgba(0, 0, 0, 0.15);\n",
              "      filter: drop-shadow(0px 1px 2px rgba(0, 0, 0, 0.3));\n",
              "      fill: #FFFFFF;\n",
              "    }\n",
              "  </style>\n",
              "\n",
              "      <script>\n",
              "        const buttonEl =\n",
              "          document.querySelector('#df-463e9079-5739-4515-b093-e47315aa36c9 button.colab-df-convert');\n",
              "        buttonEl.style.display =\n",
              "          google.colab.kernel.accessAllowed ? 'block' : 'none';\n",
              "\n",
              "        async function convertToInteractive(key) {\n",
              "          const element = document.querySelector('#df-463e9079-5739-4515-b093-e47315aa36c9');\n",
              "          const dataTable =\n",
              "            await google.colab.kernel.invokeFunction('convertToInteractive',\n",
              "                                                     [key], {});\n",
              "          if (!dataTable) return;\n",
              "\n",
              "          const docLinkHtml = 'Like what you see? Visit the ' +\n",
              "            '<a target=\"_blank\" href=https://colab.research.google.com/notebooks/data_table.ipynb>data table notebook</a>'\n",
              "            + ' to learn more about interactive tables.';\n",
              "          element.innerHTML = '';\n",
              "          dataTable['output_type'] = 'display_data';\n",
              "          await google.colab.output.renderOutput(dataTable, element);\n",
              "          const docLink = document.createElement('div');\n",
              "          docLink.innerHTML = docLinkHtml;\n",
              "          element.appendChild(docLink);\n",
              "        }\n",
              "      </script>\n",
              "    </div>\n",
              "  </div>\n",
              "  "
            ]
          },
          "metadata": {},
          "execution_count": 98
        }
      ]
    },
    {
      "cell_type": "code",
      "source": [
        "jobSkills=[]\n",
        "for i in df_job['Key Skills']:\n",
        "  jobSkills.append(i.lower())\n",
        "\n",
        "Xclass = vectorizer.fit_transform(jobSkills)\n",
        "\n",
        "X_train,X_test,y_train,y_test = train_test_split(Xclass, label, test_size=0.2, random_state=42)\n",
        "\n",
        "\n",
        "\n"
      ],
      "metadata": {
        "id": "JV3EsbhcsvVO"
      },
      "execution_count": 100,
      "outputs": []
    },
    {
      "cell_type": "code",
      "source": [
        "from sklearn.svm import SVC\n",
        "Csvm =[0.1,0.5,0.8,1,1.5,2,2.5,3,3.5]\n",
        "\n",
        "trainAcc = []\n",
        "testAcc = []\n",
        "\n",
        "for c in Csvm:\n",
        "  modelsvm = SVC(C=c, gamma =1, kernel= 'rbf')\n",
        "\n",
        "  svmfit = modelsvm.fit(X_train,y_train)\n",
        "  Y_predTrain = modelsvm.predict(X_train)\n",
        "  Y_predTest = modelsvm.predict(X_test)\n",
        "  trainAcc.append(accuracy_score(y_train, Y_predTrain))\n",
        "  testAcc.append(accuracy_score(y_test, Y_predTest))\n",
        "\n",
        "plt.plot(Csvm, trainAcc, 'ro-',Csvm, testAcc, 'bv--')\n",
        "plt.legend(['Training Accuracy', 'Test Accuracy'])\n",
        "plt.xlabel('Number of C')\n",
        "plt.ylabel('Accuracy')\n",
        "X_train.shape\n"
      ],
      "metadata": {
        "id": "yBCYjiJOIn9T",
        "colab": {
          "base_uri": "https://localhost:8080/",
          "height": 296
        },
        "outputId": "492af82c-1484-41ea-8b4f-f1884aae275d"
      },
      "execution_count": 101,
      "outputs": [
        {
          "output_type": "execute_result",
          "data": {
            "text/plain": [
              "(7869, 3572)"
            ]
          },
          "metadata": {},
          "execution_count": 101
        },
        {
          "output_type": "display_data",
          "data": {
            "text/plain": [
              "<Figure size 432x288 with 1 Axes>"
            ],
            "image/png": "[encoded data removed]"
          },
          "metadata": {
            "needs_background": "light"
          }
        }
      ]
    },
    {
      "cell_type": "code",
      "source": [
        "svm= SVC(C=5, gamma= 1, kernel= 'rbf',probability=True)\n",
        "svmfit =svm.fit(X_train, y_train)\n",
        "svm_predictions = svmfit.predict(X_test)\n",
        "svm_acc =accuracy_score(y_test,svm_predictions)\n",
        "print(\"Accuracy of SVM:\" + str(svm_acc))\n",
        "print(classification_report(y_test, svm_predictions))\n",
        "\n"
      ],
      "metadata": {
        "id": "nuD3mI8dRoD2",
        "colab": {
          "base_uri": "https://localhost:8080/"
        },
        "outputId": "2d199a7b-2688-45a5-aff0-61b7411ea87b"
      },
      "execution_count": 102,
      "outputs": [
        {
          "output_type": "stream",
          "name": "stdout",
          "text": [
            "Accuracy of SVM:0.5665650406504065\n",
            "                          precision    recall  f1-score   support\n",
            "\n",
            "       Backend Developer       0.47      0.22      0.30        97\n",
            "         Cloud Architect       0.55      0.61      0.58        71\n",
            "  DataBase Administrator       0.58      0.75      0.65       805\n",
            "Devops/Software Engineer       0.42      0.25      0.32       201\n",
            "Full Stack Web Developer       0.53      0.52      0.52       488\n",
            "   IOS/Android Developer       0.74      0.68      0.70        37\n",
            "       Technical Support       0.84      0.83      0.84        83\n",
            "            UI Developer       0.27      0.10      0.14       124\n",
            "            Web Designer       0.80      0.65      0.71        62\n",
            "\n",
            "                accuracy                           0.57      1968\n",
            "               macro avg       0.58      0.51      0.53      1968\n",
            "            weighted avg       0.55      0.57      0.54      1968\n",
            "\n"
          ]
        }
      ]
    },
    {
      "cell_type": "code",
      "source": [
        "#import pickle \n",
        "#pickle.dump(svmfit,open('weight.pkl','wb'))\n",
        "#pickle.load(open(\"/content/weights.pkl\", 'rb'))"
      ],
      "metadata": {
        "id": "2sGRo_PzmEZv"
      },
      "execution_count": 103,
      "outputs": []
    },
    {
      "cell_type": "code",
      "source": [
        "import pickle\n",
        "pickle_out = open(\"classifier.pkl\", \"wb\")\n",
        "pickle.dump(svm,pickle_out)\n",
        "pickle_out.close()"
      ],
      "metadata": {
        "id": "g2JJM0s-MB0R"
      },
      "execution_count": 104,
      "outputs": []
    },
    {
      "cell_type": "code",
      "source": [
        "loaded_model =pickle.load(open('classifier.pkl','rb'))"
      ],
      "metadata": {
        "id": "q82MaHlDRJyj"
      },
      "execution_count": 105,
      "outputs": []
    },
    {
      "cell_type": "code",
      "source": [
        "userInput = input(\"Enter your skill:\")\n",
        "pred =vectorizer.transform([userInput.lower()])\n",
        "output = loaded_model.predict(pred)\n",
        "print(\"You may look into \"+ output[0]+\" jobs\")\n",
        "print(\"Here is a list of jobs that is under \"+ output[0])\n",
        "\n",
        "cos =[]\n",
        "labelData= df_job[df_job['Label'] == output[0]]\n",
        "\n",
        "for index,row in labelData.iterrows():\n",
        "   skills =[row['Key Skills']]\n",
        "   skillVec =vectorizer.transform(skills)\n",
        "   cos_lib = cosine_similarity(skillVec, pred)\n",
        "   cos.append(cos_lib[0][0])\n",
        "\n",
        "labelData['cosine_similarity'] = cos\n",
        "\n",
        "top_5 =labelData.sort_values('cosine_similarity', ascending = False)[['Job Title','Key Skills','Role']]\n",
        "top_5.head(5)"
      ],
      "metadata": {
        "id": "xJs31TIYeJ3N",
        "colab": {
          "base_uri": "https://localhost:8080/",
          "height": 258
        },
        "outputId": "1ed9d414-da33-43ca-91e6-fca8fba4395f"
      },
      "execution_count": 108,
      "outputs": [
        {
          "output_type": "stream",
          "name": "stdout",
          "text": [
            "Enter your skill:java, angularjs\n",
            "You may look into DataBase Administrator jobs\n",
            "Here is a list of jobs that is under DataBase Administrator\n"
          ]
        },
        {
          "output_type": "execute_result",
          "data": {
            "text/plain": [
              "                                        Job Title  \\\n",
              "11501                      Java Developement Lead   \n",
              "16669   Java Fullstack Developer_gurgaon_contract   \n",
              "20863               Java 8 with Angular JS 31 MAY   \n",
              "11622                         Full Stack Engineer   \n",
              "21345           Core Java - Chennai 3rd Aug Drive   \n",
              "\n",
              "                                              Key Skills  \\\n",
              "11501                                    java| angularjs   \n",
              "16669                                    Java| Angularjs   \n",
              "20863                Java| Angularjs| Javascript| Spring   \n",
              "11622   spring| java| software development| angularjs...   \n",
              "21345                                               Java   \n",
              "\n",
              "                           Role  \n",
              "11501                     Other  \n",
              "16669        Software Developer  \n",
              "20863        Software Developer  \n",
              "11622        Software Developer  \n",
              "21345  Team Lead/Technical Lead  "
            ],
            "text/html": [
              "\n",
              "  <div id=\"df-cc855bdd-b52d-4261-9f32-d627db1322a7\">\n",
              "    <div class=\"colab-df-container\">\n",
              "      <div>\n",
              "<style scoped>\n",
              "    .dataframe tbody tr th:only-of-type {\n",
              "        vertical-align: middle;\n",
              "    }\n",
              "\n",
              "    .dataframe tbody tr th {\n",
              "        vertical-align: top;\n",
              "    }\n",
              "\n",
              "    .dataframe thead th {\n",
              "        text-align: right;\n",
              "    }\n",
              "</style>\n",
              "<table border=\"1\" class=\"dataframe\">\n",
              "  <thead>\n",
              "    <tr style=\"text-align: right;\">\n",
              "      <th></th>\n",
              "      <th>Job Title</th>\n",
              "      <th>Key Skills</th>\n",
              "      <th>Role</th>\n",
              "    </tr>\n",
              "  </thead>\n",
              "  <tbody>\n",
              "    <tr>\n",
              "      <th>11501</th>\n",
              "      <td>Java Developement Lead</td>\n",
              "      <td>java| angularjs</td>\n",
              "      <td>Other</td>\n",
              "    </tr>\n",
              "    <tr>\n",
              "      <th>16669</th>\n",
              "      <td>Java Fullstack Developer_gurgaon_contract</td>\n",
              "      <td>Java| Angularjs</td>\n",
              "      <td>Software Developer</td>\n",
              "    </tr>\n",
              "    <tr>\n",
              "      <th>20863</th>\n",
              "      <td>Java 8 with Angular JS 31 MAY</td>\n",
              "      <td>Java| Angularjs| Javascript| Spring</td>\n",
              "      <td>Software Developer</td>\n",
              "    </tr>\n",
              "    <tr>\n",
              "      <th>11622</th>\n",
              "      <td>Full Stack Engineer</td>\n",
              "      <td>spring| java| software development| angularjs...</td>\n",
              "      <td>Software Developer</td>\n",
              "    </tr>\n",
              "    <tr>\n",
              "      <th>21345</th>\n",
              "      <td>Core Java - Chennai 3rd Aug Drive</td>\n",
              "      <td>Java</td>\n",
              "      <td>Team Lead/Technical Lead</td>\n",
              "    </tr>\n",
              "  </tbody>\n",
              "</table>\n",
              "</div>\n",
              "      <button class=\"colab-df-convert\" onclick=\"convertToInteractive('df-cc855bdd-b52d-4261-9f32-d627db1322a7')\"\n",
              "              title=\"Convert this dataframe to an interactive table.\"\n",
              "              style=\"display:none;\">\n",
              "        \n",
              "  <svg xmlns=\"http://www.w3.org/2000/svg\" height=\"24px\"viewBox=\"0 0 24 24\"\n",
              "       width=\"24px\">\n",
              "    <path d=\"M0 0h24v24H0V0z\" fill=\"none\"/>\n",
              "    <path d=\"M18.56 5.44l.94 2.06.94-2.06 2.06-.94-2.06-.94-.94-2.06-.94 2.06-2.06.94zm-11 1L8.5 8.5l.94-2.06 2.06-.94-2.06-.94L8.5 2.5l-.94 2.06-2.06.94zm10 10l.94 2.06.94-2.06 2.06-.94-2.06-.94-.94-2.06-.94 2.06-2.06.94z\"/><path d=\"M17.41 7.96l-1.37-1.37c-.4-.4-.92-.59-1.43-.59-.52 0-1.04.2-1.43.59L10.3 9.45l-7.72 7.72c-.78.78-.78 2.05 0 2.83L4 21.41c.39.39.9.59 1.41.59.51 0 1.02-.2 1.41-.59l7.78-7.78 2.81-2.81c.8-.78.8-2.07 0-2.86zM5.41 20L4 18.59l7.72-7.72 1.47 1.35L5.41 20z\"/>\n",
              "  </svg>\n",
              "      </button>\n",
              "      \n",
              "  <style>\n",
              "    .colab-df-container {\n",
              "      display:flex;\n",
              "      flex-wrap:wrap;\n",
              "      gap: 12px;\n",
              "    }\n",
              "\n",
              "    .colab-df-convert {\n",
              "      background-color: #E8F0FE;\n",
              "      border: none;\n",
              "      border-radius: 50%;\n",
              "      cursor: pointer;\n",
              "      display: none;\n",
              "      fill: #1967D2;\n",
              "      height: 32px;\n",
              "      padding: 0 0 0 0;\n",
              "      width: 32px;\n",
              "    }\n",
              "\n",
              "    .colab-df-convert:hover {\n",
              "      background-color: #E2EBFA;\n",
              "      box-shadow: 0px 1px 2px rgba(60, 64, 67, 0.3), 0px 1px 3px 1px rgba(60, 64, 67, 0.15);\n",
              "      fill: #174EA6;\n",
              "    }\n",
              "\n",
              "    [theme=dark] .colab-df-convert {\n",
              "      background-color: #3B4455;\n",
              "      fill: #D2E3FC;\n",
              "    }\n",
              "\n",
              "    [theme=dark] .colab-df-convert:hover {\n",
              "      background-color: #434B5C;\n",
              "      box-shadow: 0px 1px 3px 1px rgba(0, 0, 0, 0.15);\n",
              "      filter: drop-shadow(0px 1px 2px rgba(0, 0, 0, 0.3));\n",
              "      fill: #FFFFFF;\n",
              "    }\n",
              "  </style>\n",
              "\n",
              "      <script>\n",
              "        const buttonEl =\n",
              "          document.querySelector('#df-cc855bdd-b52d-4261-9f32-d627db1322a7 button.colab-df-convert');\n",
              "        buttonEl.style.display =\n",
              "          google.colab.kernel.accessAllowed ? 'block' : 'none';\n",
              "\n",
              "        async function convertToInteractive(key) {\n",
              "          const element = document.querySelector('#df-cc855bdd-b52d-4261-9f32-d627db1322a7');\n",
              "          const dataTable =\n",
              "            await google.colab.kernel.invokeFunction('convertToInteractive',\n",
              "                                                     [key], {});\n",
              "          if (!dataTable) return;\n",
              "\n",
              "          const docLinkHtml = 'Like what you see? Visit the ' +\n",
              "            '<a target=\"_blank\" href=https://colab.research.google.com/notebooks/data_table.ipynb>data table notebook</a>'\n",
              "            + ' to learn more about interactive tables.';\n",
              "          element.innerHTML = '';\n",
              "          dataTable['output_type'] = 'display_data';\n",
              "          await google.colab.output.renderOutput(dataTable, element);\n",
              "          const docLink = document.createElement('div');\n",
              "          docLink.innerHTML = docLinkHtml;\n",
              "          element.appendChild(docLink);\n",
              "        }\n",
              "      </script>\n",
              "    </div>\n",
              "  </div>\n",
              "  "
            ]
          },
          "metadata": {},
          "execution_count": 108
        }
      ]
    }
  ]
}