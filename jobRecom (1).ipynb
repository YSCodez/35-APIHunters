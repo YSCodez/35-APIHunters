{
  "nbformat": 4,
  "nbformat_minor": 0,
  "metadata": {
    "colab": {
      "provenance": [],
      "collapsed_sections": []
    },
    "kernelspec": {
      "name": "python3",
      "display_name": "Python 3"
    },
    "language_info": {
      "name": "python"
    }
  },
  "cells": [
    {
      "cell_type": "code",
      "source": [
        "pip install python-rake"
      ],
      "metadata": {
        "id": "fDKoh8e8FJei"
      },
      "execution_count": null,
      "outputs": []
    },
    {
      "cell_type": "code",
      "source": [
        "pip install scikit-plot"
      ],
      "metadata": {
        "id": "WZB6h9_NJuFl"
      },
      "execution_count": null,
      "outputs": []
    },
    {
      "cell_type": "code",
      "execution_count": null,
      "metadata": {
        "id": "I5UisrExpWMp"
      },
      "outputs": [],
      "source": [
        "import pandas as pd\n",
        "import RAKE\n",
        "import operator\n",
        "import re\n",
        "from nltk.corpus import stopwords\n",
        "from nltk.tokenize import word_tokenize\n",
        "import nltk\n",
        "nltk.download('punkt')\n",
        "import wordcloud as w\n",
        "import matplotlib.pyplot as plt\n",
        "from sklearn.feature_extraction.text import TfidfVectorizer\n",
        "from sklearn.cluster import KMeans\n",
        "import seaborn as sns\n",
        "from sklearn.decomposition import PCA\n",
        "from sklearn.model_selection import train_test_split\n",
        "from sklearn.linear_model import LogisticRegression\n",
        "from sklearn.neighbors import KNeighborsClassifier\n",
        "from sklearn.tree import DecisionTreeClassifier\n",
        "import matplotlib.pyplot as plt\n",
        "from sklearn.metrics import confusion_matrix,make_scorer,classification_report,accuracy_score\n",
        "import scikitplot as skplt\n",
        "from sklearn import svm\n",
        "from sklearn.metrics.pairwise import euclidean_distances\n",
        "from sklearn.metrics.pairwise import cosine_similarity\n",
        "from sklearn.metrics import roc_curve,roc_auc_score\n",
        "import warnings\n",
        "warnings.filterwarnings('ignore')\n",
        "import numpy as np"
      ]
    },
    {
      "cell_type": "code",
      "source": [
        "from google.colab import drive\n",
        "drive.mount('/content/drive/')"
      ],
      "metadata": {
        "id": "1T_yhLEVJ1hB"
      },
      "execution_count": null,
      "outputs": []
    },
    {
      "cell_type": "code",
      "source": [
        "job_input = '/content/marketing_sample_for_naukri_com-jobs__20190701_20190830__30k_data.csv'\n",
        "df_job = pd.read_csv(job_input)\n",
        "df_job.head()"
      ],
      "metadata": {
        "id": "EhFbzh7IOWq-"
      },
      "execution_count": null,
      "outputs": []
    },
    {
      "cell_type": "code",
      "source": [
        "df_job.drop('Uniq Id',axis=1, inplace= True)"
      ],
      "metadata": {
        "id": "sjIwD-dkbJ2X"
      },
      "execution_count": null,
      "outputs": []
    },
    {
      "cell_type": "code",
      "source": [
        "df_job.drop('Crawl Timestamp',axis=1, inplace= True)\n",
        "df_job.drop('Job Salary',axis=1, inplace= True)\n",
        "df_job.drop('Job Experience Required',axis=1, inplace= True)\n",
        "df_job.drop('Role Category',axis=1, inplace= True)\n",
        "df_job.drop('Location',axis=1, inplace= True)\n",
        "df_job.drop('Functional Area',axis=1, inplace= True)\n",
        "#df_job.drop('Industry',axis=1, inplace= True)"
      ],
      "metadata": {
        "id": "O90N4whRbrDp"
      },
      "execution_count": null,
      "outputs": []
    },
    {
      "cell_type": "code",
      "source": [
        "df_job.head()"
      ],
      "metadata": {
        "id": "bXfFOBagcUNy",
        "colab": {
          "base_uri": "https://localhost:8080/",
          "height": 206
        },
        "outputId": "6e40d236-61b3-4296-dee2-bff30f2ae2c6"
      },
      "execution_count": 279,
      "outputs": [
        {
          "output_type": "execute_result",
          "data": {
            "text/plain": [
              "                                           Job Title  \\\n",
              "1                           Online Bidding Executive   \n",
              "3                                  Technical Support   \n",
              "4                  Software Test Engineer -hyderabad   \n",
              "5             Opening For Adobe Analytics Specialist   \n",
              "7   Opportunity For Azure Devops Architect For Hy...   \n",
              "\n",
              "                                          Key Skills  \\\n",
              "1   pre sales| closing| software knowledge| clien...   \n",
              "3                                  Technical Support   \n",
              "4   manual testing| test engineering| test cases|...   \n",
              "5   adobe experience manager| digital| digital ma...   \n",
              "7   TFS| Azure| Git| VSTS| Docker| DynaTrace| Spl...   \n",
              "\n",
              "                         Role                     Label  \n",
              "1     Sales Executive/Officer  Full Stack Web Developer  \n",
              "3  Technical Support Engineer    DataBase Administrator  \n",
              "4            Testing Engineer         Backend Developer  \n",
              "5              System Analyst           Cloud Architect  \n",
              "7         Technical Architect           Cloud Architect  "
            ],
            "text/html": [
              "\n",
              "  <div id=\"df-efefc464-2ec5-47ee-bfd6-8f523a826c1a\">\n",
              "    <div class=\"colab-df-container\">\n",
              "      <div>\n",
              "<style scoped>\n",
              "    .dataframe tbody tr th:only-of-type {\n",
              "        vertical-align: middle;\n",
              "    }\n",
              "\n",
              "    .dataframe tbody tr th {\n",
              "        vertical-align: top;\n",
              "    }\n",
              "\n",
              "    .dataframe thead th {\n",
              "        text-align: right;\n",
              "    }\n",
              "</style>\n",
              "<table border=\"1\" class=\"dataframe\">\n",
              "  <thead>\n",
              "    <tr style=\"text-align: right;\">\n",
              "      <th></th>\n",
              "      <th>Job Title</th>\n",
              "      <th>Key Skills</th>\n",
              "      <th>Role</th>\n",
              "      <th>Label</th>\n",
              "    </tr>\n",
              "  </thead>\n",
              "  <tbody>\n",
              "    <tr>\n",
              "      <th>1</th>\n",
              "      <td>Online Bidding Executive</td>\n",
              "      <td>pre sales| closing| software knowledge| clien...</td>\n",
              "      <td>Sales Executive/Officer</td>\n",
              "      <td>Full Stack Web Developer</td>\n",
              "    </tr>\n",
              "    <tr>\n",
              "      <th>3</th>\n",
              "      <td>Technical Support</td>\n",
              "      <td>Technical Support</td>\n",
              "      <td>Technical Support Engineer</td>\n",
              "      <td>DataBase Administrator</td>\n",
              "    </tr>\n",
              "    <tr>\n",
              "      <th>4</th>\n",
              "      <td>Software Test Engineer -hyderabad</td>\n",
              "      <td>manual testing| test engineering| test cases|...</td>\n",
              "      <td>Testing Engineer</td>\n",
              "      <td>Backend Developer</td>\n",
              "    </tr>\n",
              "    <tr>\n",
              "      <th>5</th>\n",
              "      <td>Opening For Adobe Analytics Specialist</td>\n",
              "      <td>adobe experience manager| digital| digital ma...</td>\n",
              "      <td>System Analyst</td>\n",
              "      <td>Cloud Architect</td>\n",
              "    </tr>\n",
              "    <tr>\n",
              "      <th>7</th>\n",
              "      <td>Opportunity For Azure Devops Architect For Hy...</td>\n",
              "      <td>TFS| Azure| Git| VSTS| Docker| DynaTrace| Spl...</td>\n",
              "      <td>Technical Architect</td>\n",
              "      <td>Cloud Architect</td>\n",
              "    </tr>\n",
              "  </tbody>\n",
              "</table>\n",
              "</div>\n",
              "      <button class=\"colab-df-convert\" onclick=\"convertToInteractive('df-efefc464-2ec5-47ee-bfd6-8f523a826c1a')\"\n",
              "              title=\"Convert this dataframe to an interactive table.\"\n",
              "              style=\"display:none;\">\n",
              "        \n",
              "  <svg xmlns=\"http://www.w3.org/2000/svg\" height=\"24px\"viewBox=\"0 0 24 24\"\n",
              "       width=\"24px\">\n",
              "    <path d=\"M0 0h24v24H0V0z\" fill=\"none\"/>\n",
              "    <path d=\"M18.56 5.44l.94 2.06.94-2.06 2.06-.94-2.06-.94-.94-2.06-.94 2.06-2.06.94zm-11 1L8.5 8.5l.94-2.06 2.06-.94-2.06-.94L8.5 2.5l-.94 2.06-2.06.94zm10 10l.94 2.06.94-2.06 2.06-.94-2.06-.94-.94-2.06-.94 2.06-2.06.94z\"/><path d=\"M17.41 7.96l-1.37-1.37c-.4-.4-.92-.59-1.43-.59-.52 0-1.04.2-1.43.59L10.3 9.45l-7.72 7.72c-.78.78-.78 2.05 0 2.83L4 21.41c.39.39.9.59 1.41.59.51 0 1.02-.2 1.41-.59l7.78-7.78 2.81-2.81c.8-.78.8-2.07 0-2.86zM5.41 20L4 18.59l7.72-7.72 1.47 1.35L5.41 20z\"/>\n",
              "  </svg>\n",
              "      </button>\n",
              "      \n",
              "  <style>\n",
              "    .colab-df-container {\n",
              "      display:flex;\n",
              "      flex-wrap:wrap;\n",
              "      gap: 12px;\n",
              "    }\n",
              "\n",
              "    .colab-df-convert {\n",
              "      background-color: #E8F0FE;\n",
              "      border: none;\n",
              "      border-radius: 50%;\n",
              "      cursor: pointer;\n",
              "      display: none;\n",
              "      fill: #1967D2;\n",
              "      height: 32px;\n",
              "      padding: 0 0 0 0;\n",
              "      width: 32px;\n",
              "    }\n",
              "\n",
              "    .colab-df-convert:hover {\n",
              "      background-color: #E2EBFA;\n",
              "      box-shadow: 0px 1px 2px rgba(60, 64, 67, 0.3), 0px 1px 3px 1px rgba(60, 64, 67, 0.15);\n",
              "      fill: #174EA6;\n",
              "    }\n",
              "\n",
              "    [theme=dark] .colab-df-convert {\n",
              "      background-color: #3B4455;\n",
              "      fill: #D2E3FC;\n",
              "    }\n",
              "\n",
              "    [theme=dark] .colab-df-convert:hover {\n",
              "      background-color: #434B5C;\n",
              "      box-shadow: 0px 1px 3px 1px rgba(0, 0, 0, 0.15);\n",
              "      filter: drop-shadow(0px 1px 2px rgba(0, 0, 0, 0.3));\n",
              "      fill: #FFFFFF;\n",
              "    }\n",
              "  </style>\n",
              "\n",
              "      <script>\n",
              "        const buttonEl =\n",
              "          document.querySelector('#df-efefc464-2ec5-47ee-bfd6-8f523a826c1a button.colab-df-convert');\n",
              "        buttonEl.style.display =\n",
              "          google.colab.kernel.accessAllowed ? 'block' : 'none';\n",
              "\n",
              "        async function convertToInteractive(key) {\n",
              "          const element = document.querySelector('#df-efefc464-2ec5-47ee-bfd6-8f523a826c1a');\n",
              "          const dataTable =\n",
              "            await google.colab.kernel.invokeFunction('convertToInteractive',\n",
              "                                                     [key], {});\n",
              "          if (!dataTable) return;\n",
              "\n",
              "          const docLinkHtml = 'Like what you see? Visit the ' +\n",
              "            '<a target=\"_blank\" href=https://colab.research.google.com/notebooks/data_table.ipynb>data table notebook</a>'\n",
              "            + ' to learn more about interactive tables.';\n",
              "          element.innerHTML = '';\n",
              "          dataTable['output_type'] = 'display_data';\n",
              "          await google.colab.output.renderOutput(dataTable, element);\n",
              "          const docLink = document.createElement('div');\n",
              "          docLink.innerHTML = docLinkHtml;\n",
              "          element.appendChild(docLink);\n",
              "        }\n",
              "      </script>\n",
              "    </div>\n",
              "  </div>\n",
              "  "
            ]
          },
          "metadata": {},
          "execution_count": 279
        }
      ]
    },
    {
      "cell_type": "code",
      "source": [
        "df_job.drop_duplicates()\n",
        "df_job.head(5)"
      ],
      "metadata": {
        "id": "guBMdnHQdIPP",
        "colab": {
          "base_uri": "https://localhost:8080/",
          "height": 206
        },
        "outputId": "57f93513-39fd-4321-83c9-70a708b41595"
      },
      "execution_count": 280,
      "outputs": [
        {
          "output_type": "execute_result",
          "data": {
            "text/plain": [
              "                                           Job Title  \\\n",
              "1                           Online Bidding Executive   \n",
              "3                                  Technical Support   \n",
              "4                  Software Test Engineer -hyderabad   \n",
              "5             Opening For Adobe Analytics Specialist   \n",
              "7   Opportunity For Azure Devops Architect For Hy...   \n",
              "\n",
              "                                          Key Skills  \\\n",
              "1   pre sales| closing| software knowledge| clien...   \n",
              "3                                  Technical Support   \n",
              "4   manual testing| test engineering| test cases|...   \n",
              "5   adobe experience manager| digital| digital ma...   \n",
              "7   TFS| Azure| Git| VSTS| Docker| DynaTrace| Spl...   \n",
              "\n",
              "                         Role                     Label  \n",
              "1     Sales Executive/Officer  Full Stack Web Developer  \n",
              "3  Technical Support Engineer    DataBase Administrator  \n",
              "4            Testing Engineer         Backend Developer  \n",
              "5              System Analyst           Cloud Architect  \n",
              "7         Technical Architect           Cloud Architect  "
            ],
            "text/html": [
              "\n",
              "  <div id=\"df-32a13472-dec9-4c69-a570-3a48ec755e92\">\n",
              "    <div class=\"colab-df-container\">\n",
              "      <div>\n",
              "<style scoped>\n",
              "    .dataframe tbody tr th:only-of-type {\n",
              "        vertical-align: middle;\n",
              "    }\n",
              "\n",
              "    .dataframe tbody tr th {\n",
              "        vertical-align: top;\n",
              "    }\n",
              "\n",
              "    .dataframe thead th {\n",
              "        text-align: right;\n",
              "    }\n",
              "</style>\n",
              "<table border=\"1\" class=\"dataframe\">\n",
              "  <thead>\n",
              "    <tr style=\"text-align: right;\">\n",
              "      <th></th>\n",
              "      <th>Job Title</th>\n",
              "      <th>Key Skills</th>\n",
              "      <th>Role</th>\n",
              "      <th>Label</th>\n",
              "    </tr>\n",
              "  </thead>\n",
              "  <tbody>\n",
              "    <tr>\n",
              "      <th>1</th>\n",
              "      <td>Online Bidding Executive</td>\n",
              "      <td>pre sales| closing| software knowledge| clien...</td>\n",
              "      <td>Sales Executive/Officer</td>\n",
              "      <td>Full Stack Web Developer</td>\n",
              "    </tr>\n",
              "    <tr>\n",
              "      <th>3</th>\n",
              "      <td>Technical Support</td>\n",
              "      <td>Technical Support</td>\n",
              "      <td>Technical Support Engineer</td>\n",
              "      <td>DataBase Administrator</td>\n",
              "    </tr>\n",
              "    <tr>\n",
              "      <th>4</th>\n",
              "      <td>Software Test Engineer -hyderabad</td>\n",
              "      <td>manual testing| test engineering| test cases|...</td>\n",
              "      <td>Testing Engineer</td>\n",
              "      <td>Backend Developer</td>\n",
              "    </tr>\n",
              "    <tr>\n",
              "      <th>5</th>\n",
              "      <td>Opening For Adobe Analytics Specialist</td>\n",
              "      <td>adobe experience manager| digital| digital ma...</td>\n",
              "      <td>System Analyst</td>\n",
              "      <td>Cloud Architect</td>\n",
              "    </tr>\n",
              "    <tr>\n",
              "      <th>7</th>\n",
              "      <td>Opportunity For Azure Devops Architect For Hy...</td>\n",
              "      <td>TFS| Azure| Git| VSTS| Docker| DynaTrace| Spl...</td>\n",
              "      <td>Technical Architect</td>\n",
              "      <td>Cloud Architect</td>\n",
              "    </tr>\n",
              "  </tbody>\n",
              "</table>\n",
              "</div>\n",
              "      <button class=\"colab-df-convert\" onclick=\"convertToInteractive('df-32a13472-dec9-4c69-a570-3a48ec755e92')\"\n",
              "              title=\"Convert this dataframe to an interactive table.\"\n",
              "              style=\"display:none;\">\n",
              "        \n",
              "  <svg xmlns=\"http://www.w3.org/2000/svg\" height=\"24px\"viewBox=\"0 0 24 24\"\n",
              "       width=\"24px\">\n",
              "    <path d=\"M0 0h24v24H0V0z\" fill=\"none\"/>\n",
              "    <path d=\"M18.56 5.44l.94 2.06.94-2.06 2.06-.94-2.06-.94-.94-2.06-.94 2.06-2.06.94zm-11 1L8.5 8.5l.94-2.06 2.06-.94-2.06-.94L8.5 2.5l-.94 2.06-2.06.94zm10 10l.94 2.06.94-2.06 2.06-.94-2.06-.94-.94-2.06-.94 2.06-2.06.94z\"/><path d=\"M17.41 7.96l-1.37-1.37c-.4-.4-.92-.59-1.43-.59-.52 0-1.04.2-1.43.59L10.3 9.45l-7.72 7.72c-.78.78-.78 2.05 0 2.83L4 21.41c.39.39.9.59 1.41.59.51 0 1.02-.2 1.41-.59l7.78-7.78 2.81-2.81c.8-.78.8-2.07 0-2.86zM5.41 20L4 18.59l7.72-7.72 1.47 1.35L5.41 20z\"/>\n",
              "  </svg>\n",
              "      </button>\n",
              "      \n",
              "  <style>\n",
              "    .colab-df-container {\n",
              "      display:flex;\n",
              "      flex-wrap:wrap;\n",
              "      gap: 12px;\n",
              "    }\n",
              "\n",
              "    .colab-df-convert {\n",
              "      background-color: #E8F0FE;\n",
              "      border: none;\n",
              "      border-radius: 50%;\n",
              "      cursor: pointer;\n",
              "      display: none;\n",
              "      fill: #1967D2;\n",
              "      height: 32px;\n",
              "      padding: 0 0 0 0;\n",
              "      width: 32px;\n",
              "    }\n",
              "\n",
              "    .colab-df-convert:hover {\n",
              "      background-color: #E2EBFA;\n",
              "      box-shadow: 0px 1px 2px rgba(60, 64, 67, 0.3), 0px 1px 3px 1px rgba(60, 64, 67, 0.15);\n",
              "      fill: #174EA6;\n",
              "    }\n",
              "\n",
              "    [theme=dark] .colab-df-convert {\n",
              "      background-color: #3B4455;\n",
              "      fill: #D2E3FC;\n",
              "    }\n",
              "\n",
              "    [theme=dark] .colab-df-convert:hover {\n",
              "      background-color: #434B5C;\n",
              "      box-shadow: 0px 1px 3px 1px rgba(0, 0, 0, 0.15);\n",
              "      filter: drop-shadow(0px 1px 2px rgba(0, 0, 0, 0.3));\n",
              "      fill: #FFFFFF;\n",
              "    }\n",
              "  </style>\n",
              "\n",
              "      <script>\n",
              "        const buttonEl =\n",
              "          document.querySelector('#df-32a13472-dec9-4c69-a570-3a48ec755e92 button.colab-df-convert');\n",
              "        buttonEl.style.display =\n",
              "          google.colab.kernel.accessAllowed ? 'block' : 'none';\n",
              "\n",
              "        async function convertToInteractive(key) {\n",
              "          const element = document.querySelector('#df-32a13472-dec9-4c69-a570-3a48ec755e92');\n",
              "          const dataTable =\n",
              "            await google.colab.kernel.invokeFunction('convertToInteractive',\n",
              "                                                     [key], {});\n",
              "          if (!dataTable) return;\n",
              "\n",
              "          const docLinkHtml = 'Like what you see? Visit the ' +\n",
              "            '<a target=\"_blank\" href=https://colab.research.google.com/notebooks/data_table.ipynb>data table notebook</a>'\n",
              "            + ' to learn more about interactive tables.';\n",
              "          element.innerHTML = '';\n",
              "          dataTable['output_type'] = 'display_data';\n",
              "          await google.colab.output.renderOutput(dataTable, element);\n",
              "          const docLink = document.createElement('div');\n",
              "          docLink.innerHTML = docLinkHtml;\n",
              "          element.appendChild(docLink);\n",
              "        }\n",
              "      </script>\n",
              "    </div>\n",
              "  </div>\n",
              "  "
            ]
          },
          "metadata": {},
          "execution_count": 280
        }
      ]
    },
    {
      "cell_type": "code",
      "source": [
        "# check to see if there are any missing values\n",
        "print(df_job.isnull().values.any())\n",
        "\n",
        "# as it is true, check number of missing values in each row\n",
        "df_job.isna().sum() "
      ],
      "metadata": {
        "id": "NAr2A7yIezvj",
        "colab": {
          "base_uri": "https://localhost:8080/"
        },
        "outputId": "5a98a428-7a4e-4d90-e68d-861f63953cfe"
      },
      "execution_count": 281,
      "outputs": [
        {
          "output_type": "stream",
          "name": "stdout",
          "text": [
            "False\n"
          ]
        },
        {
          "output_type": "execute_result",
          "data": {
            "text/plain": [
              "Job Title     0\n",
              "Key Skills    0\n",
              "Role          0\n",
              "Label         0\n",
              "dtype: int64"
            ]
          },
          "metadata": {},
          "execution_count": 281
        }
      ]
    },
    {
      "cell_type": "code",
      "source": [
        "# drop all rows that have NaN values\n",
        "df_job.dropna(inplace=True)"
      ],
      "metadata": {
        "id": "iGUIAMKQj2Sf"
      },
      "execution_count": 282,
      "outputs": []
    },
    {
      "cell_type": "code",
      "source": [
        "# check for NaN value again\n",
        "df_job.isna().sum()"
      ],
      "metadata": {
        "id": "MYnW7aOXli0W",
        "colab": {
          "base_uri": "https://localhost:8080/"
        },
        "outputId": "0954348b-81b4-4161-b725-343bc769bdd9"
      },
      "execution_count": 283,
      "outputs": [
        {
          "output_type": "execute_result",
          "data": {
            "text/plain": [
              "Job Title     0\n",
              "Key Skills    0\n",
              "Role          0\n",
              "Label         0\n",
              "dtype: int64"
            ]
          },
          "metadata": {},
          "execution_count": 283
        }
      ]
    },
    {
      "cell_type": "code",
      "source": [],
      "metadata": {
        "id": "nxTzyx8O1ows"
      },
      "execution_count": 284,
      "outputs": []
    },
    {
      "cell_type": "code",
      "source": [
        "df_job[\"Job Title\"].value_counts()[:5]"
      ],
      "metadata": {
        "id": "n51nv8w64Kni",
        "colab": {
          "base_uri": "https://localhost:8080/"
        },
        "outputId": "4a711331-bd2e-4a1b-9f08-60e83e3ae7b0"
      },
      "execution_count": 285,
      "outputs": [
        {
          "output_type": "execute_result",
          "data": {
            "text/plain": [
              " PHP Developer        88\n",
              " Android Developer    55\n",
              " Java Developer       54\n",
              " Software Engineer    49\n",
              " Dot Net Developer    46\n",
              "Name: Job Title, dtype: int64"
            ]
          },
          "metadata": {},
          "execution_count": 285
        }
      ]
    },
    {
      "cell_type": "code",
      "source": [
        "df_job.head(5)"
      ],
      "metadata": {
        "id": "BMq_HhqU5WNd",
        "colab": {
          "base_uri": "https://localhost:8080/",
          "height": 206
        },
        "outputId": "3794f53c-3c56-403e-9802-8f05f2162697"
      },
      "execution_count": 286,
      "outputs": [
        {
          "output_type": "execute_result",
          "data": {
            "text/plain": [
              "                                           Job Title  \\\n",
              "1                           Online Bidding Executive   \n",
              "3                                  Technical Support   \n",
              "4                  Software Test Engineer -hyderabad   \n",
              "5             Opening For Adobe Analytics Specialist   \n",
              "7   Opportunity For Azure Devops Architect For Hy...   \n",
              "\n",
              "                                          Key Skills  \\\n",
              "1   pre sales| closing| software knowledge| clien...   \n",
              "3                                  Technical Support   \n",
              "4   manual testing| test engineering| test cases|...   \n",
              "5   adobe experience manager| digital| digital ma...   \n",
              "7   TFS| Azure| Git| VSTS| Docker| DynaTrace| Spl...   \n",
              "\n",
              "                         Role                     Label  \n",
              "1     Sales Executive/Officer  Full Stack Web Developer  \n",
              "3  Technical Support Engineer    DataBase Administrator  \n",
              "4            Testing Engineer         Backend Developer  \n",
              "5              System Analyst           Cloud Architect  \n",
              "7         Technical Architect           Cloud Architect  "
            ],
            "text/html": [
              "\n",
              "  <div id=\"df-fd3dff3d-1920-4fc6-8ff6-88df34d30d44\">\n",
              "    <div class=\"colab-df-container\">\n",
              "      <div>\n",
              "<style scoped>\n",
              "    .dataframe tbody tr th:only-of-type {\n",
              "        vertical-align: middle;\n",
              "    }\n",
              "\n",
              "    .dataframe tbody tr th {\n",
              "        vertical-align: top;\n",
              "    }\n",
              "\n",
              "    .dataframe thead th {\n",
              "        text-align: right;\n",
              "    }\n",
              "</style>\n",
              "<table border=\"1\" class=\"dataframe\">\n",
              "  <thead>\n",
              "    <tr style=\"text-align: right;\">\n",
              "      <th></th>\n",
              "      <th>Job Title</th>\n",
              "      <th>Key Skills</th>\n",
              "      <th>Role</th>\n",
              "      <th>Label</th>\n",
              "    </tr>\n",
              "  </thead>\n",
              "  <tbody>\n",
              "    <tr>\n",
              "      <th>1</th>\n",
              "      <td>Online Bidding Executive</td>\n",
              "      <td>pre sales| closing| software knowledge| clien...</td>\n",
              "      <td>Sales Executive/Officer</td>\n",
              "      <td>Full Stack Web Developer</td>\n",
              "    </tr>\n",
              "    <tr>\n",
              "      <th>3</th>\n",
              "      <td>Technical Support</td>\n",
              "      <td>Technical Support</td>\n",
              "      <td>Technical Support Engineer</td>\n",
              "      <td>DataBase Administrator</td>\n",
              "    </tr>\n",
              "    <tr>\n",
              "      <th>4</th>\n",
              "      <td>Software Test Engineer -hyderabad</td>\n",
              "      <td>manual testing| test engineering| test cases|...</td>\n",
              "      <td>Testing Engineer</td>\n",
              "      <td>Backend Developer</td>\n",
              "    </tr>\n",
              "    <tr>\n",
              "      <th>5</th>\n",
              "      <td>Opening For Adobe Analytics Specialist</td>\n",
              "      <td>adobe experience manager| digital| digital ma...</td>\n",
              "      <td>System Analyst</td>\n",
              "      <td>Cloud Architect</td>\n",
              "    </tr>\n",
              "    <tr>\n",
              "      <th>7</th>\n",
              "      <td>Opportunity For Azure Devops Architect For Hy...</td>\n",
              "      <td>TFS| Azure| Git| VSTS| Docker| DynaTrace| Spl...</td>\n",
              "      <td>Technical Architect</td>\n",
              "      <td>Cloud Architect</td>\n",
              "    </tr>\n",
              "  </tbody>\n",
              "</table>\n",
              "</div>\n",
              "      <button class=\"colab-df-convert\" onclick=\"convertToInteractive('df-fd3dff3d-1920-4fc6-8ff6-88df34d30d44')\"\n",
              "              title=\"Convert this dataframe to an interactive table.\"\n",
              "              style=\"display:none;\">\n",
              "        \n",
              "  <svg xmlns=\"http://www.w3.org/2000/svg\" height=\"24px\"viewBox=\"0 0 24 24\"\n",
              "       width=\"24px\">\n",
              "    <path d=\"M0 0h24v24H0V0z\" fill=\"none\"/>\n",
              "    <path d=\"M18.56 5.44l.94 2.06.94-2.06 2.06-.94-2.06-.94-.94-2.06-.94 2.06-2.06.94zm-11 1L8.5 8.5l.94-2.06 2.06-.94-2.06-.94L8.5 2.5l-.94 2.06-2.06.94zm10 10l.94 2.06.94-2.06 2.06-.94-2.06-.94-.94-2.06-.94 2.06-2.06.94z\"/><path d=\"M17.41 7.96l-1.37-1.37c-.4-.4-.92-.59-1.43-.59-.52 0-1.04.2-1.43.59L10.3 9.45l-7.72 7.72c-.78.78-.78 2.05 0 2.83L4 21.41c.39.39.9.59 1.41.59.51 0 1.02-.2 1.41-.59l7.78-7.78 2.81-2.81c.8-.78.8-2.07 0-2.86zM5.41 20L4 18.59l7.72-7.72 1.47 1.35L5.41 20z\"/>\n",
              "  </svg>\n",
              "      </button>\n",
              "      \n",
              "  <style>\n",
              "    .colab-df-container {\n",
              "      display:flex;\n",
              "      flex-wrap:wrap;\n",
              "      gap: 12px;\n",
              "    }\n",
              "\n",
              "    .colab-df-convert {\n",
              "      background-color: #E8F0FE;\n",
              "      border: none;\n",
              "      border-radius: 50%;\n",
              "      cursor: pointer;\n",
              "      display: none;\n",
              "      fill: #1967D2;\n",
              "      height: 32px;\n",
              "      padding: 0 0 0 0;\n",
              "      width: 32px;\n",
              "    }\n",
              "\n",
              "    .colab-df-convert:hover {\n",
              "      background-color: #E2EBFA;\n",
              "      box-shadow: 0px 1px 2px rgba(60, 64, 67, 0.3), 0px 1px 3px 1px rgba(60, 64, 67, 0.15);\n",
              "      fill: #174EA6;\n",
              "    }\n",
              "\n",
              "    [theme=dark] .colab-df-convert {\n",
              "      background-color: #3B4455;\n",
              "      fill: #D2E3FC;\n",
              "    }\n",
              "\n",
              "    [theme=dark] .colab-df-convert:hover {\n",
              "      background-color: #434B5C;\n",
              "      box-shadow: 0px 1px 3px 1px rgba(0, 0, 0, 0.15);\n",
              "      filter: drop-shadow(0px 1px 2px rgba(0, 0, 0, 0.3));\n",
              "      fill: #FFFFFF;\n",
              "    }\n",
              "  </style>\n",
              "\n",
              "      <script>\n",
              "        const buttonEl =\n",
              "          document.querySelector('#df-fd3dff3d-1920-4fc6-8ff6-88df34d30d44 button.colab-df-convert');\n",
              "        buttonEl.style.display =\n",
              "          google.colab.kernel.accessAllowed ? 'block' : 'none';\n",
              "\n",
              "        async function convertToInteractive(key) {\n",
              "          const element = document.querySelector('#df-fd3dff3d-1920-4fc6-8ff6-88df34d30d44');\n",
              "          const dataTable =\n",
              "            await google.colab.kernel.invokeFunction('convertToInteractive',\n",
              "                                                     [key], {});\n",
              "          if (!dataTable) return;\n",
              "\n",
              "          const docLinkHtml = 'Like what you see? Visit the ' +\n",
              "            '<a target=\"_blank\" href=https://colab.research.google.com/notebooks/data_table.ipynb>data table notebook</a>'\n",
              "            + ' to learn more about interactive tables.';\n",
              "          element.innerHTML = '';\n",
              "          dataTable['output_type'] = 'display_data';\n",
              "          await google.colab.output.renderOutput(dataTable, element);\n",
              "          const docLink = document.createElement('div');\n",
              "          docLink.innerHTML = docLinkHtml;\n",
              "          element.appendChild(docLink);\n",
              "        }\n",
              "      </script>\n",
              "    </div>\n",
              "  </div>\n",
              "  "
            ]
          },
          "metadata": {},
          "execution_count": 286
        }
      ]
    },
    {
      "cell_type": "code",
      "source": [
        "from sklearn.feature_extraction.text import TfidfVectorizer\n",
        "vectorizer = TfidfVectorizer()\n",
        "X = vectorizer.fit_transform(df_job['Job Title'].values)\n",
        "print(X.shape)\n",
        "analyze = vectorizer.build_analyzer()\n",
        "features = vectorizer.get_feature_names()"
      ],
      "metadata": {
        "id": "0Cd986O5A84f",
        "colab": {
          "base_uri": "https://localhost:8080/"
        },
        "outputId": "dc2a5d14-3090-4c46-863d-964a7759a3a9"
      },
      "execution_count": 287,
      "outputs": [
        {
          "output_type": "stream",
          "name": "stdout",
          "text": [
            "(9841, 3523)\n"
          ]
        }
      ]
    },
    {
      "cell_type": "code",
      "source": [],
      "metadata": {
        "id": "jI84fk9b59g1"
      },
      "execution_count": null,
      "outputs": []
    },
    {
      "cell_type": "code",
      "source": [],
      "metadata": {
        "id": "XAg3jHWy971j"
      },
      "execution_count": null,
      "outputs": []
    },
    {
      "cell_type": "code",
      "source": [
        "# within cluster sum of squares\n",
        "wcss = []\n",
        "for i in range(1, 15):\n",
        "  kmeans=KMeans(n_clusters = i, init = 'k-means++', random_state = 42, max_iter= 600, n_init=1)\n",
        "  kmeans.fit(X)\n",
        "  wcss.append(kmeans.inertia_)"
      ],
      "metadata": {
        "id": "Lk-plLeYBVIN"
      },
      "execution_count": 288,
      "outputs": []
    },
    {
      "cell_type": "code",
      "source": [
        "#plotting the graph\n",
        "plt.figure(figsize=(10,5))\n",
        "sns.lineplot(range(1,15),wcss,marker= 'o',color='red')\n",
        "plt.title('The elbow Method')\n",
        "plt.xlabel('Number of clusters')\n",
        "plt.ylabel('WCSS')\n",
        "plt.show()"
      ],
      "metadata": {
        "id": "HsQCD2KJE003",
        "colab": {
          "base_uri": "https://localhost:8080/",
          "height": 350
        },
        "outputId": "2915692e-5574-43fb-e4fa-2ef492df38ec"
      },
      "execution_count": 289,
      "outputs": [
        {
          "output_type": "display_data",
          "data": {
            "text/plain": [
              "<Figure size 720x360 with 1 Axes>"
            ],
            "image/png": "[encoded data removed]"
          },
          "metadata": {
            "needs_background": "light"
          }
        }
      ]
    },
    {
      "cell_type": "code",
      "source": [
        "true_k = 13\n",
        "model = KMeans(n_clusters=true_k, init= 'k-means++', max_iter= 600, n_init=1,random_state = 42)\n",
        "pred =model.fit_predict(X)\n",
        "order_centroids= model.cluster_centers_.argsort()[:, ::-1]\n",
        "terms = vectorizer.get_feature_names()"
      ],
      "metadata": {
        "id": "V8j0-QiIGdp9"
      },
      "execution_count": 290,
      "outputs": []
    },
    {
      "cell_type": "code",
      "source": [
        "from sklearn.cluster import KMeans \n",
        "from sklearn.decomposition import PCA\n",
        "\n",
        "sklearn_pca = PCA(n_components = 2)\n",
        "\n",
        "Y_sklearn = sklearn_pca.fit_transform(X.toarray())\n",
        "kmeans = KMeans(n_clusters =15, init= 'k-means++', max_iter=600, n_init=1, random_state=42)\n",
        "fitted =kmeans.fit(Y_sklearn)\n",
        "prediction = kmeans.predict(Y_sklearn)\n",
        "\n",
        "plt.scatter(Y_sklearn[:, 0], Y_sklearn[:, 1], c= prediction, s=50, cmap='viridis')\n",
        "\n",
        "centers = kmeans.cluster_centers_\n",
        "\n",
        "plt.scatter(centers[:, 0], centers[:, 1], c='black', s=300, alpha=0.6);"
      ],
      "metadata": {
        "id": "VhybrjTNOgV2",
        "colab": {
          "base_uri": "https://localhost:8080/",
          "height": 265
        },
        "outputId": "9e944efc-2b5c-47fd-bb42-b7df52e03d4b"
      },
      "execution_count": 291,
      "outputs": [
        {
          "output_type": "display_data",
          "data": {
            "text/plain": [
              "<Figure size 432x288 with 1 Axes>"
            ],
            "image/png": "[encoded data removed]"
          },
          "metadata": {
            "needs_background": "light"
          }
        }
      ]
    },
    {
      "cell_type": "code",
      "source": [
        "from sklearn.metrics import silhouette_score\n",
        "print('KMeans Scaled Silhouette Score: {}'.format(silhouette_score(X, model.labels_, metric='euclidean')))"
      ],
      "metadata": {
        "id": "BkgFG0OoaJbS",
        "colab": {
          "base_uri": "https://localhost:8080/"
        },
        "outputId": "278f26e2-87af-4086-8e76-ca06d4a1e7c5"
      },
      "execution_count": 292,
      "outputs": [
        {
          "output_type": "stream",
          "name": "stdout",
          "text": [
            "KMeans Scaled Silhouette Score: 0.041214511407197764\n"
          ]
        }
      ]
    },
    {
      "cell_type": "code",
      "source": [
        "def get_top_keywords(data, clusters, labels, n_terms):\n",
        "  df = pd.DataFrame(data.todense()).groupby(clusters).mean()\n",
        "\n",
        "  for i,r in df.iterrows():\n",
        "    print('\\nCluster {}'.format(i))\n",
        "    print(','.join([labels[t] for t in np.argsort(r)[-n_terms:]]))\n",
        "\n",
        "get_top_keywords(X, pred, features, 80)  \n",
        "\n"
      ],
      "metadata": {
        "id": "1bEgeiy0b0Ib",
        "colab": {
          "base_uri": "https://localhost:8080/"
        },
        "outputId": "4f5522b6-3373-4c83-8bd4-7ef8ba1508fe"
      },
      "execution_count": 293,
      "outputs": [
        {
          "output_type": "stream",
          "name": "stdout",
          "text": [
            "\n",
            "Cluster 0\n",
            "specialist,ui,applications,analytics,operations,services,microsoft,hcm,implementation,web,designation,mulesoft,platform,enterprise,software,leader,bangalore,developer,testing,database,solutions,php,engineering,dynamics,crm,mm,automation,salesforce,administrator,big,basis,principal,development,package,product,full,finance,recruiter,aws,analyst,sd,modules,devops,stack,delivery,sales,it,hana,azure,application,fico,j2ee,infrastructure,net,security,test,technology,module,sr,data,cloud,abap,engineer,oracle,manager,tech,functional,associate,team,project,java,support,solution,content,writer,sap,architect,technical,consultant,lead\n",
            "\n",
            "Cluster 1\n",
            "contract,joiners,in,editor,css3,india,sharepoint,indesign,amp,male,joiner,designing,pillarmind,wireframe,image,design,site,sketch,walkin,php,invision,professional,position,development,consultant,analyst,art,delhi,product,user,flash,interior,icon,remote,studio,odoo,location,it,seniour,software,game,video,jewelry,apps,principal,experience,associate,years,ahmedabad,end,front,immediate,chennai,application,marketing,hiring,and,css,for,mobile,designers,html,gui,developers,website,visual,graphics,jr,creative,photoshop,instructional,senior,sr,illustrator,developer,ui,ux,graphic,web,designer\n",
            "\n",
            "Cluster 2\n",
            "only,abap,python,top,client,drive,sales,exp,engineer,vacancy,ui,stack,freshers,full,contract,yrs,tester,admin,hr,dotnet,kolkata,and,angular,joiners,experience,on,executive,process,leading,an,us,testing,data,consultant,technical,oracle,manager,product,c2h,lead,based,recruiter,sr,at,bpo,international,of,gurgaon,support,position,developers,excellent,software,chennai,sap,noida,walk,net,it,mumbai,fresher,mnc,hyderabad,company,pune,requirement,location,with,job,openings,opportunity,bangalore,looking,java,immediate,in,developer,urgent,opening,for\n",
            "\n",
            "Cluster 3\n",
            "of,software,sale,intl,spot,currently,looking,pre,coordinator,exp,avp,on,and,search,web,campaign,going,opportunity,experience,tele,engineer,candidate,urgent,senior,at,recruiting,apply,is,tsa,call,it,experienced,with,caller,join,huge,service,kolkata,job,require,joining,group,need,vacancy,care,callers,mega,opening,representative,immediate,marketing,outbound,night,sr,cce,adeeba,required,fixed,salary,executives,hiring,inside,associate,customer,manager,technical,bpo,uk,in,for,shift,us,international,voice,executive,support,process,tech,inbound,sales\n",
            "\n",
            "Cluster 4\n",
            "analyst,react,pune,client,product,gurgaon,node,cloud,ios,executive,wpf,ror,angularjs,services,angular,ooad,django,iii,core,plm,analytics,freshers,india,marketing,tools,mainframe,programmer,years,kernel,data,android,intern,job,in,platform,backend,assurance,staff,mobile,tester,ui,full,js,engineers,system,manager,systems,sql,stack,php,team,trainee,support,javascript,junior,delv,j2ee,automation,it,architect,technologist,python,associate,qa,quality,engineering,ii,embedded,principal,testing,net,lead,test,java,development,sr,developer,senior,engineer,software\n",
            "\n",
            "Cluster 5\n",
            "finance,server,leader,us,trainee,principal,dba,services,executives,trainer,coordinator,pune,selenium,accounts,programmer,to,bangalore,cloud,database,content,systems,linux,scientist,expert,in,with,engineers,delivery,technology,web,professional,customer,design,engineering,account,sql,oracle,admin,sap,tester,security,quality,developers,developer,system,testing,operations,service,software,recruiter,head,java,application,qa,assistant,and,automation,management,test,digital,seo,devops,associate,specialist,hr,support,product,administrator,sales,project,sr,it,data,marketing,analyst,development,executive,engineer,business,manager\n",
            "\n",
            "Cluster 6\n",
            "product,yrs,noida,framework,datastage,abap,business,location,hadoop,ux,hyderabad,gurgaon,servicenow,oracle,nodejs,years,hybrid,and,html5,cloud,back,big,pune,mumbai,bangalore,teradata,programmer,django,sap,with,embedded,app,mvc,sharepoint,sql,software,developers,mysql,reactjs,junior,informatica,drupal,iphone,mean,laravel,data,hibernate,dotnet,css,frontend,native,core,lead,fullstack,j2ee,html,spring,angular,salesforce,node,angularjs,backend,wordpress,mobile,magento,react,sr,javascript,web,js,ui,application,front,python,end,full,stack,java,php,developer\n",
            "\n",
            "Cluster 7\n",
            "embedded,entire,enterprise,er,manager,with,associate,product,engineer,testing,react,tester,noida,design,contract,services,need,looking,apps,or,manual,at,native,excellent,adeeba,hyderabad,job,bangalore,opportunity,cpi,integration,point,nr,designing,xcode,lead,expereince,india,nariman,replicon,jul19,qs,cocoa,kolkata,borivali,webservices,3081,goregaon,gurgoan,02,andriod,banneragatta,intern,male,game,company,pune,years,in,platform,development,software,iphone,gurgaon,developers,senior,for,urgent,location,opening,mumbai,application,sr,mobile,app,swift,android,objective,developer,ios\n",
            "\n",
            "Cluster 8\n",
            "whitefield,srdot,analyst,develoepr,architect_gaurav_bangalore_techjini,chandigarh,mnc,webapi,job,powerbuilder,silverlight,manager,domain,applications,location,bangalore,thane,delhi,javascript,bfsi,baner,support,development,technical,java,gurgaon,angularjs,member,product,hiring,windows,tech,required,professionals,framework,server,microsoft,jr,api,entity,noida,urgent,core,fresher,wcf,professional,yrs,wpf,junior,project,pune,immediate,leader,engineer,architect,with,application,programmers,aspdot,angular,vb,mumbai,programmer,stack,full,web,for,lead,opening,team,sr,sql,software,developers,senior,mvc,asp,developer,dot,net\n",
            "\n",
            "Cluster 9\n",
            "data,experience,development,years,oracle,analyst,js,hcl,stack,desktop,role,software,full,top,experienced,freshers,python,kolkata,senior,on,lead,recruiter,automation,sap,executive,testing,of,position,to,cce,cloud,selling,consultant,and,group,product,at,voice,sales,net,uk,chennai,bpo,sr,web,based,we,engineer,manager,are,immediate,shift,with,leading,gurgaon,inbound,developers,adeeba,us,tech,technical,international,java,noida,pune,mumbai,support,company,bangalore,process,mnc,it,hyderabad,in,location,is,developer,urgent,for,hiring\n",
            "\n",
            "Cluster 10\n",
            "engineers,engineers_permanent_chennai,education,english,editorial,editor,enthusiastic,employee,engr,enhance,enigneer,enovia,enquero,enterprise,edi,enterprisewide,edition,with,frontend,expert,hiring,opening,to,chennai,j2ee,sector,required,freshers,ahmedabad,east,position,native,webservices,sqlite,xml,designing,php,nos,specialist,127,santacruz,05,testing,coding,systems,fresher,flutter,restful,studio,iot,noida,git,gurgaon,for,location,integration,yrs,api,joiner,jr,junior,mumbai,immediate,bangalore,senior,software,development,json,app,kotlin,apps,mobile,lead,engineer,application,java,developers,sdk,developer,android\n",
            "\n",
            "Cluster 11\n",
            "solutions,enterprise,delhi,position,itil,communication,virtualization,urgent,bhayandar,rotational,locationl2,night,compliance,kernel,manager,project,co,designer,jobs,amp,research,ims,occ,software,qcall,male,firmware,deployment,vpc,engineering,bsc,in,thoughtfocus,routing,management,linux,switching,protocal,technical,implementation,cloud,shift,metro,title,configurations,engineers,for,modeller,pune,development,qos,datacenter,unix,embedded,analyst,voice,testing,senior,l3,consultant,sr,cisco,admin,global,desktop,specialist,infrastructure,associate,support,systems,administrators,system,services,architect,lead,data,security,administrator,engineer,network\n",
            "\n",
            "Cluster 12\n",
            "noida,management,mongodb,hibernate,big,in,firmware,assurance,functional,principal,html,sap,finance,operations,frontend,with,net,practitioner,and,test,delivery,engg,end,administration,spring,for,team,system,digital,front,oracle,j2ee,javascript,engineering,junior,sql,qa,drupal,backend,database,laravel,salesforce,specialist,delv,eng,it,sales,quality,react,systems,security,js,web,administrator,architect,business,associate,project,development,executive,ui,support,data,programmer,python,technical,full,stack,developers,devops,lead,consultant,software,manager,analyst,php,engineer,java,developer,senior\n"
          ]
        }
      ]
    },
    {
      "cell_type": "code",
      "source": [
        "label = []\n",
        "for i in df_job['Job Title'].values:\n",
        "\n",
        "  vec = vectorizer.transform([i])\n",
        "  pred = model.predict(vec)\n",
        "  if pred == 0:\n",
        "    label.append('DataBase Administrator')\n",
        "  elif pred == 1:\n",
        "    label.append('UI Developer') \n",
        "  elif pred == 2:\n",
        "    label.append('Cloud Architect')\n",
        "  elif pred == 3:\n",
        "    label.append('Full Stack Web Developer')  \n",
        "  elif pred == 4:\n",
        "    label.append('Backend Developer')    \n",
        "  elif pred ==6:\n",
        "    label.append('IOS/Android Developer')\n",
        "  elif pred ==7:\n",
        "    label.append('Devops/Software Engineer') \n",
        "  elif pred ==8:\n",
        "    label.append('Web Designer') \n",
        "  elif pred ==9:\n",
        "    label.append('Technical Support')  \n",
        "  elif pred ==10:\n",
        "    label.append('Devops/Software Engineer') \n",
        "  else :\n",
        "    label.append('Full Stack Web Developer') \n",
        "    \n",
        "df_job['Label']= label\n",
        "df_job.head(5)\n"
      ],
      "metadata": {
        "id": "0RzvzfAhg76S",
        "colab": {
          "base_uri": "https://localhost:8080/",
          "height": 206
        },
        "outputId": "8709e562-6eed-4338-d11b-5d636587433a"
      },
      "execution_count": 294,
      "outputs": [
        {
          "output_type": "execute_result",
          "data": {
            "text/plain": [
              "                                           Job Title  \\\n",
              "1                           Online Bidding Executive   \n",
              "3                                  Technical Support   \n",
              "4                  Software Test Engineer -hyderabad   \n",
              "5             Opening For Adobe Analytics Specialist   \n",
              "7   Opportunity For Azure Devops Architect For Hy...   \n",
              "\n",
              "                                          Key Skills  \\\n",
              "1   pre sales| closing| software knowledge| clien...   \n",
              "3                                  Technical Support   \n",
              "4   manual testing| test engineering| test cases|...   \n",
              "5   adobe experience manager| digital| digital ma...   \n",
              "7   TFS| Azure| Git| VSTS| Docker| DynaTrace| Spl...   \n",
              "\n",
              "                         Role                     Label  \n",
              "1     Sales Executive/Officer  Full Stack Web Developer  \n",
              "3  Technical Support Engineer    DataBase Administrator  \n",
              "4            Testing Engineer         Backend Developer  \n",
              "5              System Analyst           Cloud Architect  \n",
              "7         Technical Architect           Cloud Architect  "
            ],
            "text/html": [
              "\n",
              "  <div id=\"df-cd0f1dc0-58ab-446d-9a52-b6bd06d8bf66\">\n",
              "    <div class=\"colab-df-container\">\n",
              "      <div>\n",
              "<style scoped>\n",
              "    .dataframe tbody tr th:only-of-type {\n",
              "        vertical-align: middle;\n",
              "    }\n",
              "\n",
              "    .dataframe tbody tr th {\n",
              "        vertical-align: top;\n",
              "    }\n",
              "\n",
              "    .dataframe thead th {\n",
              "        text-align: right;\n",
              "    }\n",
              "</style>\n",
              "<table border=\"1\" class=\"dataframe\">\n",
              "  <thead>\n",
              "    <tr style=\"text-align: right;\">\n",
              "      <th></th>\n",
              "      <th>Job Title</th>\n",
              "      <th>Key Skills</th>\n",
              "      <th>Role</th>\n",
              "      <th>Label</th>\n",
              "    </tr>\n",
              "  </thead>\n",
              "  <tbody>\n",
              "    <tr>\n",
              "      <th>1</th>\n",
              "      <td>Online Bidding Executive</td>\n",
              "      <td>pre sales| closing| software knowledge| clien...</td>\n",
              "      <td>Sales Executive/Officer</td>\n",
              "      <td>Full Stack Web Developer</td>\n",
              "    </tr>\n",
              "    <tr>\n",
              "      <th>3</th>\n",
              "      <td>Technical Support</td>\n",
              "      <td>Technical Support</td>\n",
              "      <td>Technical Support Engineer</td>\n",
              "      <td>DataBase Administrator</td>\n",
              "    </tr>\n",
              "    <tr>\n",
              "      <th>4</th>\n",
              "      <td>Software Test Engineer -hyderabad</td>\n",
              "      <td>manual testing| test engineering| test cases|...</td>\n",
              "      <td>Testing Engineer</td>\n",
              "      <td>Backend Developer</td>\n",
              "    </tr>\n",
              "    <tr>\n",
              "      <th>5</th>\n",
              "      <td>Opening For Adobe Analytics Specialist</td>\n",
              "      <td>adobe experience manager| digital| digital ma...</td>\n",
              "      <td>System Analyst</td>\n",
              "      <td>Cloud Architect</td>\n",
              "    </tr>\n",
              "    <tr>\n",
              "      <th>7</th>\n",
              "      <td>Opportunity For Azure Devops Architect For Hy...</td>\n",
              "      <td>TFS| Azure| Git| VSTS| Docker| DynaTrace| Spl...</td>\n",
              "      <td>Technical Architect</td>\n",
              "      <td>Cloud Architect</td>\n",
              "    </tr>\n",
              "  </tbody>\n",
              "</table>\n",
              "</div>\n",
              "      <button class=\"colab-df-convert\" onclick=\"convertToInteractive('df-cd0f1dc0-58ab-446d-9a52-b6bd06d8bf66')\"\n",
              "              title=\"Convert this dataframe to an interactive table.\"\n",
              "              style=\"display:none;\">\n",
              "        \n",
              "  <svg xmlns=\"http://www.w3.org/2000/svg\" height=\"24px\"viewBox=\"0 0 24 24\"\n",
              "       width=\"24px\">\n",
              "    <path d=\"M0 0h24v24H0V0z\" fill=\"none\"/>\n",
              "    <path d=\"M18.56 5.44l.94 2.06.94-2.06 2.06-.94-2.06-.94-.94-2.06-.94 2.06-2.06.94zm-11 1L8.5 8.5l.94-2.06 2.06-.94-2.06-.94L8.5 2.5l-.94 2.06-2.06.94zm10 10l.94 2.06.94-2.06 2.06-.94-2.06-.94-.94-2.06-.94 2.06-2.06.94z\"/><path d=\"M17.41 7.96l-1.37-1.37c-.4-.4-.92-.59-1.43-.59-.52 0-1.04.2-1.43.59L10.3 9.45l-7.72 7.72c-.78.78-.78 2.05 0 2.83L4 21.41c.39.39.9.59 1.41.59.51 0 1.02-.2 1.41-.59l7.78-7.78 2.81-2.81c.8-.78.8-2.07 0-2.86zM5.41 20L4 18.59l7.72-7.72 1.47 1.35L5.41 20z\"/>\n",
              "  </svg>\n",
              "      </button>\n",
              "      \n",
              "  <style>\n",
              "    .colab-df-container {\n",
              "      display:flex;\n",
              "      flex-wrap:wrap;\n",
              "      gap: 12px;\n",
              "    }\n",
              "\n",
              "    .colab-df-convert {\n",
              "      background-color: #E8F0FE;\n",
              "      border: none;\n",
              "      border-radius: 50%;\n",
              "      cursor: pointer;\n",
              "      display: none;\n",
              "      fill: #1967D2;\n",
              "      height: 32px;\n",
              "      padding: 0 0 0 0;\n",
              "      width: 32px;\n",
              "    }\n",
              "\n",
              "    .colab-df-convert:hover {\n",
              "      background-color: #E2EBFA;\n",
              "      box-shadow: 0px 1px 2px rgba(60, 64, 67, 0.3), 0px 1px 3px 1px rgba(60, 64, 67, 0.15);\n",
              "      fill: #174EA6;\n",
              "    }\n",
              "\n",
              "    [theme=dark] .colab-df-convert {\n",
              "      background-color: #3B4455;\n",
              "      fill: #D2E3FC;\n",
              "    }\n",
              "\n",
              "    [theme=dark] .colab-df-convert:hover {\n",
              "      background-color: #434B5C;\n",
              "      box-shadow: 0px 1px 3px 1px rgba(0, 0, 0, 0.15);\n",
              "      filter: drop-shadow(0px 1px 2px rgba(0, 0, 0, 0.3));\n",
              "      fill: #FFFFFF;\n",
              "    }\n",
              "  </style>\n",
              "\n",
              "      <script>\n",
              "        const buttonEl =\n",
              "          document.querySelector('#df-cd0f1dc0-58ab-446d-9a52-b6bd06d8bf66 button.colab-df-convert');\n",
              "        buttonEl.style.display =\n",
              "          google.colab.kernel.accessAllowed ? 'block' : 'none';\n",
              "\n",
              "        async function convertToInteractive(key) {\n",
              "          const element = document.querySelector('#df-cd0f1dc0-58ab-446d-9a52-b6bd06d8bf66');\n",
              "          const dataTable =\n",
              "            await google.colab.kernel.invokeFunction('convertToInteractive',\n",
              "                                                     [key], {});\n",
              "          if (!dataTable) return;\n",
              "\n",
              "          const docLinkHtml = 'Like what you see? Visit the ' +\n",
              "            '<a target=\"_blank\" href=https://colab.research.google.com/notebooks/data_table.ipynb>data table notebook</a>'\n",
              "            + ' to learn more about interactive tables.';\n",
              "          element.innerHTML = '';\n",
              "          dataTable['output_type'] = 'display_data';\n",
              "          await google.colab.output.renderOutput(dataTable, element);\n",
              "          const docLink = document.createElement('div');\n",
              "          docLink.innerHTML = docLinkHtml;\n",
              "          element.appendChild(docLink);\n",
              "        }\n",
              "      </script>\n",
              "    </div>\n",
              "  </div>\n",
              "  "
            ]
          },
          "metadata": {},
          "execution_count": 294
        }
      ]
    },
    {
      "cell_type": "code",
      "source": [
        "jobSkills=[]\n",
        "for i in df_job['Key Skills']:\n",
        "  jobSkills.append(i.lower())\n",
        "\n",
        "Xclass = vectorizer.fit_transform(jobSkills)\n",
        "\n",
        "#X_train,X_test,y_train,y_test = train_test_split(Xclass, label, test_size=0.2, random_state=42)\n",
        "X_train,X_test,y_train,y_test = train_test_split(Xclass,label, shuffle=False, stratify=None, train_size=0.2)\n",
        "b=np.array(label)\n",
        "print(b.shape)\n"
      ],
      "metadata": {
        "id": "JV3EsbhcsvVO",
        "colab": {
          "base_uri": "https://localhost:8080/"
        },
        "outputId": "c4f1ecfe-c58b-448e-aa7e-fa404b363741"
      },
      "execution_count": 295,
      "outputs": [
        {
          "output_type": "stream",
          "name": "stdout",
          "text": [
            "(9841,)\n"
          ]
        }
      ]
    },
    {
      "cell_type": "code",
      "source": [
        "from sklearn.svm import SVC\n",
        "Csvm =[0.1,0.5,0.8,1,1.5,2,2.5,3,3.5]\n",
        "\n",
        "trainAcc = []\n",
        "testAcc = []\n",
        "\n",
        "for c in Csvm:\n",
        "  modelsvm = SVC(C=c, gamma =1, kernel= 'rbf')\n",
        "\n",
        "  svmfit = modelsvm.fit(X_train,y_train)\n",
        "  Y_predTrain = modelsvm.predict(X_train)\n",
        "  Y_predTest = modelsvm.predict(X_test)\n",
        "  trainAcc.append(accuracy_score(y_train, Y_predTrain))\n",
        "  testAcc.append(accuracy_score(y_test, Y_predTest))\n",
        "\n",
        "plt.plot(Csvm, trainAcc, 'ro-',Csvm, testAcc, 'bv--')\n",
        "plt.legend(['Training Accuracy', 'Test Accuracy'])\n",
        "plt.xlabel('Number of C')\n",
        "plt.ylabel('Accuracy')\n",
        "X_train.shape\n"
      ],
      "metadata": {
        "id": "yBCYjiJOIn9T",
        "colab": {
          "base_uri": "https://localhost:8080/",
          "height": 299
        },
        "outputId": "9b28036d-741d-44c4-cba7-c02a429a56d0"
      },
      "execution_count": 300,
      "outputs": [
        {
          "output_type": "execute_result",
          "data": {
            "text/plain": [
              "(1968, 3573)"
            ]
          },
          "metadata": {},
          "execution_count": 300
        },
        {
          "output_type": "display_data",
          "data": {
            "text/plain": [
              "<Figure size 432x288 with 1 Axes>"
            ],
            "image/png": "[encoded data removed]"
          },
          "metadata": {
            "needs_background": "light"
          }
        }
      ]
    },
    {
      "cell_type": "code",
      "source": [
        "svm= SVC(C=5, gamma= 1, kernel= 'rbf',probability=True)\n",
        "svmfit =svm.fit(X_train, y_train)\n",
        "svm_predictions = svmfit.predict(X_test)\n",
        "svm_acc =accuracy_score(y_test,svm_predictions)\n",
        "print(\"Accuracy of SVM:\" + str(svm_acc))\n",
        "print(classification_report(y_test, svm_predictions))\n",
        "X_train.shape\n"
      ],
      "metadata": {
        "id": "nuD3mI8dRoD2",
        "colab": {
          "base_uri": "https://localhost:8080/"
        },
        "outputId": "6aa74bda-4254-4d17-96bd-f7964fddd146"
      },
      "execution_count": 312,
      "outputs": [
        {
          "output_type": "stream",
          "name": "stdout",
          "text": [
            "Accuracy of SVM:0.5700495363901943\n",
            "                          precision    recall  f1-score   support\n",
            "\n",
            "       Backend Developer       0.36      0.18      0.24       397\n",
            "         Cloud Architect       0.22      0.10      0.13       646\n",
            "  DataBase Administrator       0.46      0.20      0.28       860\n",
            "Devops/Software Engineer       0.68      0.60      0.64       191\n",
            "Full Stack Web Developer       0.61      0.87      0.72      3962\n",
            "   IOS/Android Developer       0.47      0.40      0.43      1042\n",
            "       Technical Support       0.14      0.02      0.03       263\n",
            "            UI Developer       0.76      0.39      0.51       217\n",
            "            Web Designer       0.54      0.41      0.46       295\n",
            "\n",
            "                accuracy                           0.57      7873\n",
            "               macro avg       0.47      0.35      0.38      7873\n",
            "            weighted avg       0.52      0.57      0.52      7873\n",
            "\n"
          ]
        },
        {
          "output_type": "execute_result",
          "data": {
            "text/plain": [
              "(1968, 3573)"
            ]
          },
          "metadata": {},
          "execution_count": 312
        }
      ]
    },
    {
      "cell_type": "code",
      "source": [
        "import pickle \n",
        "pickle.dump(svmfit,open('weight.pkl','wb'))\n",
        "import pickle \n",
        "\n",
        "\n",
        "classifier = pickle.load(open(\"/content/weights.pkl\", 'rb'))"
      ],
      "metadata": {
        "id": "2sGRo_PzmEZv"
      },
      "execution_count": 314,
      "outputs": []
    },
    {
      "cell_type": "code",
      "source": [
        "userInput = input(\"Enter your skill:\")\n",
        "pred =vectorizer.transform([userInput.lower()])\n",
        "\n",
        "output = classifier.predict(pred)\n",
        "print(output[0])\n",
        "X_train.shape"
      ],
      "metadata": {
        "id": "zRpnlGG5bqUX",
        "colab": {
          "base_uri": "https://localhost:8080/"
        },
        "outputId": "5dd27145-d02d-4e7d-f35f-cab43438cf16"
      },
      "execution_count": 315,
      "outputs": [
        {
          "output_type": "stream",
          "name": "stdout",
          "text": [
            "Enter your skill:java\n",
            "Full Stack Web Developer\n"
          ]
        },
        {
          "output_type": "execute_result",
          "data": {
            "text/plain": [
              "(1968, 3573)"
            ]
          },
          "metadata": {},
          "execution_count": 315
        }
      ]
    },
    {
      "cell_type": "code",
      "source": [
        "cos =[]\n",
        "labelData= df_job[df_job['Label'] == output[0]]\n",
        "\n",
        "for index,row in labelData.iterrows():\n",
        "   skills =[row['Key Skills']]\n",
        "   skillVec =vectorizer.transform(skills)\n",
        "   cos_lib = cosine_similarity(skillVec, pred)\n",
        "   cos.append(cos_lib[0][0])\n",
        "\n",
        "labelData['cosine_similarity'] = cos"
      ],
      "metadata": {
        "id": "3Tb24wXUTOdr"
      },
      "execution_count": 316,
      "outputs": []
    },
    {
      "cell_type": "code",
      "source": [
        "top_5 =labelData.sort_values('cosine_similarity', ascending = False)[['Job Title',\t'Key Skills','Role', 'cosine_similarity']]\n",
        "top_5.head(5)"
      ],
      "metadata": {
        "id": "iXrm0oRZcmQV",
        "colab": {
          "base_uri": "https://localhost:8080/",
          "height": 206
        },
        "outputId": "1fdf6450-0f0f-41ff-df60-17ae1a0b3f26"
      },
      "execution_count": 310,
      "outputs": [
        {
          "output_type": "execute_result",
          "data": {
            "text/plain": [
              "                                               Job Title  \\\n",
              "21345                  Core Java - Chennai 3rd Aug Drive   \n",
              "19325      Software Engineering Leads - Machine Learning   \n",
              "27295                              Senior Java Developer   \n",
              "16669          Java Fullstack Developer_gurgaon_contract   \n",
              "20283   Java Developer IT MNC JMD Megapolis Gurgaon S...   \n",
              "\n",
              "                                              Key Skills  \\\n",
              "21345                                               Java   \n",
              "19325                                          Java| C++   \n",
              "27295                                       spring| java   \n",
              "16669                                    Java| Angularjs   \n",
              "20283   hibernate| spring| microservices| core java| ...   \n",
              "\n",
              "                           Role  cosine_similarity  \n",
              "21345  Team Lead/Technical Lead           1.000000  \n",
              "19325                     Other           1.000000  \n",
              "27295                   Analyst           0.604943  \n",
              "16669        Software Developer           0.570816  \n",
              "20283        Software Developer           0.557398  "
            ],
            "text/html": [
              "\n",
              "  <div id=\"df-451ad099-2ecd-463f-8d85-5f9e2d14b2eb\">\n",
              "    <div class=\"colab-df-container\">\n",
              "      <div>\n",
              "<style scoped>\n",
              "    .dataframe tbody tr th:only-of-type {\n",
              "        vertical-align: middle;\n",
              "    }\n",
              "\n",
              "    .dataframe tbody tr th {\n",
              "        vertical-align: top;\n",
              "    }\n",
              "\n",
              "    .dataframe thead th {\n",
              "        text-align: right;\n",
              "    }\n",
              "</style>\n",
              "<table border=\"1\" class=\"dataframe\">\n",
              "  <thead>\n",
              "    <tr style=\"text-align: right;\">\n",
              "      <th></th>\n",
              "      <th>Job Title</th>\n",
              "      <th>Key Skills</th>\n",
              "      <th>Role</th>\n",
              "      <th>cosine_similarity</th>\n",
              "    </tr>\n",
              "  </thead>\n",
              "  <tbody>\n",
              "    <tr>\n",
              "      <th>21345</th>\n",
              "      <td>Core Java - Chennai 3rd Aug Drive</td>\n",
              "      <td>Java</td>\n",
              "      <td>Team Lead/Technical Lead</td>\n",
              "      <td>1.000000</td>\n",
              "    </tr>\n",
              "    <tr>\n",
              "      <th>19325</th>\n",
              "      <td>Software Engineering Leads - Machine Learning</td>\n",
              "      <td>Java| C++</td>\n",
              "      <td>Other</td>\n",
              "      <td>1.000000</td>\n",
              "    </tr>\n",
              "    <tr>\n",
              "      <th>27295</th>\n",
              "      <td>Senior Java Developer</td>\n",
              "      <td>spring| java</td>\n",
              "      <td>Analyst</td>\n",
              "      <td>0.604943</td>\n",
              "    </tr>\n",
              "    <tr>\n",
              "      <th>16669</th>\n",
              "      <td>Java Fullstack Developer_gurgaon_contract</td>\n",
              "      <td>Java| Angularjs</td>\n",
              "      <td>Software Developer</td>\n",
              "      <td>0.570816</td>\n",
              "    </tr>\n",
              "    <tr>\n",
              "      <th>20283</th>\n",
              "      <td>Java Developer IT MNC JMD Megapolis Gurgaon S...</td>\n",
              "      <td>hibernate| spring| microservices| core java| ...</td>\n",
              "      <td>Software Developer</td>\n",
              "      <td>0.557398</td>\n",
              "    </tr>\n",
              "  </tbody>\n",
              "</table>\n",
              "</div>\n",
              "      <button class=\"colab-df-convert\" onclick=\"convertToInteractive('df-451ad099-2ecd-463f-8d85-5f9e2d14b2eb')\"\n",
              "              title=\"Convert this dataframe to an interactive table.\"\n",
              "              style=\"display:none;\">\n",
              "        \n",
              "  <svg xmlns=\"http://www.w3.org/2000/svg\" height=\"24px\"viewBox=\"0 0 24 24\"\n",
              "       width=\"24px\">\n",
              "    <path d=\"M0 0h24v24H0V0z\" fill=\"none\"/>\n",
              "    <path d=\"M18.56 5.44l.94 2.06.94-2.06 2.06-.94-2.06-.94-.94-2.06-.94 2.06-2.06.94zm-11 1L8.5 8.5l.94-2.06 2.06-.94-2.06-.94L8.5 2.5l-.94 2.06-2.06.94zm10 10l.94 2.06.94-2.06 2.06-.94-2.06-.94-.94-2.06-.94 2.06-2.06.94z\"/><path d=\"M17.41 7.96l-1.37-1.37c-.4-.4-.92-.59-1.43-.59-.52 0-1.04.2-1.43.59L10.3 9.45l-7.72 7.72c-.78.78-.78 2.05 0 2.83L4 21.41c.39.39.9.59 1.41.59.51 0 1.02-.2 1.41-.59l7.78-7.78 2.81-2.81c.8-.78.8-2.07 0-2.86zM5.41 20L4 18.59l7.72-7.72 1.47 1.35L5.41 20z\"/>\n",
              "  </svg>\n",
              "      </button>\n",
              "      \n",
              "  <style>\n",
              "    .colab-df-container {\n",
              "      display:flex;\n",
              "      flex-wrap:wrap;\n",
              "      gap: 12px;\n",
              "    }\n",
              "\n",
              "    .colab-df-convert {\n",
              "      background-color: #E8F0FE;\n",
              "      border: none;\n",
              "      border-radius: 50%;\n",
              "      cursor: pointer;\n",
              "      display: none;\n",
              "      fill: #1967D2;\n",
              "      height: 32px;\n",
              "      padding: 0 0 0 0;\n",
              "      width: 32px;\n",
              "    }\n",
              "\n",
              "    .colab-df-convert:hover {\n",
              "      background-color: #E2EBFA;\n",
              "      box-shadow: 0px 1px 2px rgba(60, 64, 67, 0.3), 0px 1px 3px 1px rgba(60, 64, 67, 0.15);\n",
              "      fill: #174EA6;\n",
              "    }\n",
              "\n",
              "    [theme=dark] .colab-df-convert {\n",
              "      background-color: #3B4455;\n",
              "      fill: #D2E3FC;\n",
              "    }\n",
              "\n",
              "    [theme=dark] .colab-df-convert:hover {\n",
              "      background-color: #434B5C;\n",
              "      box-shadow: 0px 1px 3px 1px rgba(0, 0, 0, 0.15);\n",
              "      filter: drop-shadow(0px 1px 2px rgba(0, 0, 0, 0.3));\n",
              "      fill: #FFFFFF;\n",
              "    }\n",
              "  </style>\n",
              "\n",
              "      <script>\n",
              "        const buttonEl =\n",
              "          document.querySelector('#df-451ad099-2ecd-463f-8d85-5f9e2d14b2eb button.colab-df-convert');\n",
              "        buttonEl.style.display =\n",
              "          google.colab.kernel.accessAllowed ? 'block' : 'none';\n",
              "\n",
              "        async function convertToInteractive(key) {\n",
              "          const element = document.querySelector('#df-451ad099-2ecd-463f-8d85-5f9e2d14b2eb');\n",
              "          const dataTable =\n",
              "            await google.colab.kernel.invokeFunction('convertToInteractive',\n",
              "                                                     [key], {});\n",
              "          if (!dataTable) return;\n",
              "\n",
              "          const docLinkHtml = 'Like what you see? Visit the ' +\n",
              "            '<a target=\"_blank\" href=https://colab.research.google.com/notebooks/data_table.ipynb>data table notebook</a>'\n",
              "            + ' to learn more about interactive tables.';\n",
              "          element.innerHTML = '';\n",
              "          dataTable['output_type'] = 'display_data';\n",
              "          await google.colab.output.renderOutput(dataTable, element);\n",
              "          const docLink = document.createElement('div');\n",
              "          docLink.innerHTML = docLinkHtml;\n",
              "          element.appendChild(docLink);\n",
              "        }\n",
              "      </script>\n",
              "    </div>\n",
              "  </div>\n",
              "  "
            ]
          },
          "metadata": {},
          "execution_count": 310
        }
      ]
    },
    {
      "cell_type": "code",
      "source": [
        "userInput = input(\"Enter your skill:\")\n",
        "pred =vectorizer.transform([userInput.lower()])\n",
        "\n",
        "output = svm.predict(pred)\n",
        "print(\"You may look into \"+ output[0]+\" jobs\")\n",
        "print(\"Here is a list of jobs that is under\"+ output[0])\n",
        "\n",
        "cos =[]\n",
        "labelData= df_job[df_job['Label'] == output[0]]\n",
        "\n",
        "for index,row in labelData.iterrows():\n",
        "   skills =[row['Key Skills']]\n",
        "   skillVec =vectorizer.transform(skills)\n",
        "   cos_lib = cosine_similarity(skillVec, pred)\n",
        "   cos.append(cos_lib[0][0])\n",
        "\n",
        "labelData['cosine_similarity'] = cos\n",
        "\n",
        "top_5 =labelData.sort_values('cosine_similarity', ascending = False)[['Job Title',\t'Key Skills','Role']]\n",
        "top_5.head(5)"
      ],
      "metadata": {
        "id": "xJs31TIYeJ3N",
        "colab": {
          "base_uri": "https://localhost:8080/",
          "height": 261
        },
        "outputId": "df4abe6b-e318-4b9d-fd25-ecde0fb67939"
      },
      "execution_count": 307,
      "outputs": [
        {
          "output_type": "stream",
          "name": "stdout",
          "text": [
            "Enter your skill:java\n",
            "You may look into IOS/Android Developer jobs\n",
            "Here is a list of jobs that is underIOS/Android Developer\n"
          ]
        },
        {
          "output_type": "execute_result",
          "data": {
            "text/plain": [
              "                                 Job Title  \\\n",
              "1370        Java Full Stack Developer_pune   \n",
              "19991                         UI Developer   \n",
              "10699                       Java Developer   \n",
              "25686                       Java Developer   \n",
              "14744   Java Developer +3Years Pune Mumbai   \n",
              "\n",
              "                                Key Skills                                Role  \n",
              "1370                                  Java                  Software Developer  \n",
              "19991                                 Java                  Software Developer  \n",
              "10699        c++| Core Java| java| c| html                  Software Developer  \n",
              "25686   spring| Java| hibernate| core java  Sales/Business Development Manager  \n",
              "14744   Java| hibernate| Spring| core java                  Software Developer  "
            ],
            "text/html": [
              "\n",
              "  <div id=\"df-c17e0084-ec5b-4b87-ae4b-fe3348d94259\">\n",
              "    <div class=\"colab-df-container\">\n",
              "      <div>\n",
              "<style scoped>\n",
              "    .dataframe tbody tr th:only-of-type {\n",
              "        vertical-align: middle;\n",
              "    }\n",
              "\n",
              "    .dataframe tbody tr th {\n",
              "        vertical-align: top;\n",
              "    }\n",
              "\n",
              "    .dataframe thead th {\n",
              "        text-align: right;\n",
              "    }\n",
              "</style>\n",
              "<table border=\"1\" class=\"dataframe\">\n",
              "  <thead>\n",
              "    <tr style=\"text-align: right;\">\n",
              "      <th></th>\n",
              "      <th>Job Title</th>\n",
              "      <th>Key Skills</th>\n",
              "      <th>Role</th>\n",
              "    </tr>\n",
              "  </thead>\n",
              "  <tbody>\n",
              "    <tr>\n",
              "      <th>1370</th>\n",
              "      <td>Java Full Stack Developer_pune</td>\n",
              "      <td>Java</td>\n",
              "      <td>Software Developer</td>\n",
              "    </tr>\n",
              "    <tr>\n",
              "      <th>19991</th>\n",
              "      <td>UI Developer</td>\n",
              "      <td>Java</td>\n",
              "      <td>Software Developer</td>\n",
              "    </tr>\n",
              "    <tr>\n",
              "      <th>10699</th>\n",
              "      <td>Java Developer</td>\n",
              "      <td>c++| Core Java| java| c| html</td>\n",
              "      <td>Software Developer</td>\n",
              "    </tr>\n",
              "    <tr>\n",
              "      <th>25686</th>\n",
              "      <td>Java Developer</td>\n",
              "      <td>spring| Java| hibernate| core java</td>\n",
              "      <td>Sales/Business Development Manager</td>\n",
              "    </tr>\n",
              "    <tr>\n",
              "      <th>14744</th>\n",
              "      <td>Java Developer +3Years Pune Mumbai</td>\n",
              "      <td>Java| hibernate| Spring| core java</td>\n",
              "      <td>Software Developer</td>\n",
              "    </tr>\n",
              "  </tbody>\n",
              "</table>\n",
              "</div>\n",
              "      <button class=\"colab-df-convert\" onclick=\"convertToInteractive('df-c17e0084-ec5b-4b87-ae4b-fe3348d94259')\"\n",
              "              title=\"Convert this dataframe to an interactive table.\"\n",
              "              style=\"display:none;\">\n",
              "        \n",
              "  <svg xmlns=\"http://www.w3.org/2000/svg\" height=\"24px\"viewBox=\"0 0 24 24\"\n",
              "       width=\"24px\">\n",
              "    <path d=\"M0 0h24v24H0V0z\" fill=\"none\"/>\n",
              "    <path d=\"M18.56 5.44l.94 2.06.94-2.06 2.06-.94-2.06-.94-.94-2.06-.94 2.06-2.06.94zm-11 1L8.5 8.5l.94-2.06 2.06-.94-2.06-.94L8.5 2.5l-.94 2.06-2.06.94zm10 10l.94 2.06.94-2.06 2.06-.94-2.06-.94-.94-2.06-.94 2.06-2.06.94z\"/><path d=\"M17.41 7.96l-1.37-1.37c-.4-.4-.92-.59-1.43-.59-.52 0-1.04.2-1.43.59L10.3 9.45l-7.72 7.72c-.78.78-.78 2.05 0 2.83L4 21.41c.39.39.9.59 1.41.59.51 0 1.02-.2 1.41-.59l7.78-7.78 2.81-2.81c.8-.78.8-2.07 0-2.86zM5.41 20L4 18.59l7.72-7.72 1.47 1.35L5.41 20z\"/>\n",
              "  </svg>\n",
              "      </button>\n",
              "      \n",
              "  <style>\n",
              "    .colab-df-container {\n",
              "      display:flex;\n",
              "      flex-wrap:wrap;\n",
              "      gap: 12px;\n",
              "    }\n",
              "\n",
              "    .colab-df-convert {\n",
              "      background-color: #E8F0FE;\n",
              "      border: none;\n",
              "      border-radius: 50%;\n",
              "      cursor: pointer;\n",
              "      display: none;\n",
              "      fill: #1967D2;\n",
              "      height: 32px;\n",
              "      padding: 0 0 0 0;\n",
              "      width: 32px;\n",
              "    }\n",
              "\n",
              "    .colab-df-convert:hover {\n",
              "      background-color: #E2EBFA;\n",
              "      box-shadow: 0px 1px 2px rgba(60, 64, 67, 0.3), 0px 1px 3px 1px rgba(60, 64, 67, 0.15);\n",
              "      fill: #174EA6;\n",
              "    }\n",
              "\n",
              "    [theme=dark] .colab-df-convert {\n",
              "      background-color: #3B4455;\n",
              "      fill: #D2E3FC;\n",
              "    }\n",
              "\n",
              "    [theme=dark] .colab-df-convert:hover {\n",
              "      background-color: #434B5C;\n",
              "      box-shadow: 0px 1px 3px 1px rgba(0, 0, 0, 0.15);\n",
              "      filter: drop-shadow(0px 1px 2px rgba(0, 0, 0, 0.3));\n",
              "      fill: #FFFFFF;\n",
              "    }\n",
              "  </style>\n",
              "\n",
              "      <script>\n",
              "        const buttonEl =\n",
              "          document.querySelector('#df-c17e0084-ec5b-4b87-ae4b-fe3348d94259 button.colab-df-convert');\n",
              "        buttonEl.style.display =\n",
              "          google.colab.kernel.accessAllowed ? 'block' : 'none';\n",
              "\n",
              "        async function convertToInteractive(key) {\n",
              "          const element = document.querySelector('#df-c17e0084-ec5b-4b87-ae4b-fe3348d94259');\n",
              "          const dataTable =\n",
              "            await google.colab.kernel.invokeFunction('convertToInteractive',\n",
              "                                                     [key], {});\n",
              "          if (!dataTable) return;\n",
              "\n",
              "          const docLinkHtml = 'Like what you see? Visit the ' +\n",
              "            '<a target=\"_blank\" href=https://colab.research.google.com/notebooks/data_table.ipynb>data table notebook</a>'\n",
              "            + ' to learn more about interactive tables.';\n",
              "          element.innerHTML = '';\n",
              "          dataTable['output_type'] = 'display_data';\n",
              "          await google.colab.output.renderOutput(dataTable, element);\n",
              "          const docLink = document.createElement('div');\n",
              "          docLink.innerHTML = docLinkHtml;\n",
              "          element.appendChild(docLink);\n",
              "        }\n",
              "      </script>\n",
              "    </div>\n",
              "  </div>\n",
              "  "
            ]
          },
          "metadata": {},
          "execution_count": 307
        }
      ]
    },
    {
      "cell_type": "code",
      "source": [
        "pip install scikit-learn==0.18.2"
      ],
      "metadata": {
        "id": "FTAmpykJHtA2"
      },
      "execution_count": null,
      "outputs": []
    },
    {
      "cell_type": "code",
      "source": [
        "pip install -U scikit-learn"
      ],
      "metadata": {
        "id": "mgpmCusUHZ6G"
      },
      "execution_count": null,
      "outputs": []
    },
    {
      "cell_type": "code",
      "source": [
        "pip install sklearn"
      ],
      "metadata": {
        "id": "kX0Dou_sF2mn"
      },
      "execution_count": null,
      "outputs": []
    },
    {
      "cell_type": "code",
      "source": [
        "pip install scikit-learn"
      ],
      "metadata": {
        "id": "KO7dapkmFrpN"
      },
      "execution_count": null,
      "outputs": []
    },
    {
      "cell_type": "code",
      "source": [
        "vectorizer = TfidfVectorizer()\n",
        "X = vectorizer.fit_transform(df_job['Job Title'].values)\n",
        "print(X.shape)\n",
        "analyze = vectorizer.build_analyzer()\n",
        "features = vectorizer.get_feature_names()"
      ],
      "metadata": {
        "id": "3ZKiNZA9qhZv"
      },
      "execution_count": null,
      "outputs": []
    },
    {
      "cell_type": "code",
      "source": [],
      "metadata": {
        "id": "dKIrR8eCn6Mq"
      },
      "execution_count": null,
      "outputs": []
    },
    {
      "cell_type": "code",
      "source": [
        "userInput = input(\"Enter your skill:\")\n",
        "pred =vectorizer.transform([userInput.lower()])\n",
        "output = classifier.predict(pred)\n",
        "print(\"You may look into \"+ output[0]+\" jobs\")\n",
        "print(\"Here is a list of jobs that is under\"+ output[0])\n",
        "\n",
        "cos =[]\n",
        "labelData= df_job[df_job['Label'] == output[0]]\n",
        "\n",
        "for index,row in labelData.iterrows():\n",
        "   skills =[row['Key Skills']]\n",
        "   skillVec =vectorizer.transform(skills)\n",
        "   cos_lib = cosine_similarity(skillVec, pred)\n",
        "   cos.append(cos_lib[0][0])\n",
        "\n",
        "labelData['cosine_similarity'] = cos\n",
        "\n",
        "top_5 =labelData.sort_values('cosine_similarity', ascending = False)[['Job Title',\t'Key Skills','Role']]\n",
        "top_5.head(5)"
      ],
      "metadata": {
        "id": "RYl2M7cHoqdY",
        "colab": {
          "base_uri": "https://localhost:8080/",
          "height": 261
        },
        "outputId": "e2c77bfb-62f5-4b52-d3af-95d32a6edebb"
      },
      "execution_count": 308,
      "outputs": [
        {
          "output_type": "stream",
          "name": "stdout",
          "text": [
            "Enter your skill:java\n",
            "You may look into Full Stack Web Developer jobs\n",
            "Here is a list of jobs that is underFull Stack Web Developer\n"
          ]
        },
        {
          "output_type": "execute_result",
          "data": {
            "text/plain": [
              "                                               Job Title  \\\n",
              "21345                  Core Java - Chennai 3rd Aug Drive   \n",
              "19325      Software Engineering Leads - Machine Learning   \n",
              "27295                              Senior Java Developer   \n",
              "16669          Java Fullstack Developer_gurgaon_contract   \n",
              "20283   Java Developer IT MNC JMD Megapolis Gurgaon S...   \n",
              "\n",
              "                                              Key Skills  \\\n",
              "21345                                               Java   \n",
              "19325                                          Java| C++   \n",
              "27295                                       spring| java   \n",
              "16669                                    Java| Angularjs   \n",
              "20283   hibernate| spring| microservices| core java| ...   \n",
              "\n",
              "                           Role  \n",
              "21345  Team Lead/Technical Lead  \n",
              "19325                     Other  \n",
              "27295                   Analyst  \n",
              "16669        Software Developer  \n",
              "20283        Software Developer  "
            ],
            "text/html": [
              "\n",
              "  <div id=\"df-e64141e6-1849-4c5f-80ea-8a449e5ee8d6\">\n",
              "    <div class=\"colab-df-container\">\n",
              "      <div>\n",
              "<style scoped>\n",
              "    .dataframe tbody tr th:only-of-type {\n",
              "        vertical-align: middle;\n",
              "    }\n",
              "\n",
              "    .dataframe tbody tr th {\n",
              "        vertical-align: top;\n",
              "    }\n",
              "\n",
              "    .dataframe thead th {\n",
              "        text-align: right;\n",
              "    }\n",
              "</style>\n",
              "<table border=\"1\" class=\"dataframe\">\n",
              "  <thead>\n",
              "    <tr style=\"text-align: right;\">\n",
              "      <th></th>\n",
              "      <th>Job Title</th>\n",
              "      <th>Key Skills</th>\n",
              "      <th>Role</th>\n",
              "    </tr>\n",
              "  </thead>\n",
              "  <tbody>\n",
              "    <tr>\n",
              "      <th>21345</th>\n",
              "      <td>Core Java - Chennai 3rd Aug Drive</td>\n",
              "      <td>Java</td>\n",
              "      <td>Team Lead/Technical Lead</td>\n",
              "    </tr>\n",
              "    <tr>\n",
              "      <th>19325</th>\n",
              "      <td>Software Engineering Leads - Machine Learning</td>\n",
              "      <td>Java| C++</td>\n",
              "      <td>Other</td>\n",
              "    </tr>\n",
              "    <tr>\n",
              "      <th>27295</th>\n",
              "      <td>Senior Java Developer</td>\n",
              "      <td>spring| java</td>\n",
              "      <td>Analyst</td>\n",
              "    </tr>\n",
              "    <tr>\n",
              "      <th>16669</th>\n",
              "      <td>Java Fullstack Developer_gurgaon_contract</td>\n",
              "      <td>Java| Angularjs</td>\n",
              "      <td>Software Developer</td>\n",
              "    </tr>\n",
              "    <tr>\n",
              "      <th>20283</th>\n",
              "      <td>Java Developer IT MNC JMD Megapolis Gurgaon S...</td>\n",
              "      <td>hibernate| spring| microservices| core java| ...</td>\n",
              "      <td>Software Developer</td>\n",
              "    </tr>\n",
              "  </tbody>\n",
              "</table>\n",
              "</div>\n",
              "      <button class=\"colab-df-convert\" onclick=\"convertToInteractive('df-e64141e6-1849-4c5f-80ea-8a449e5ee8d6')\"\n",
              "              title=\"Convert this dataframe to an interactive table.\"\n",
              "              style=\"display:none;\">\n",
              "        \n",
              "  <svg xmlns=\"http://www.w3.org/2000/svg\" height=\"24px\"viewBox=\"0 0 24 24\"\n",
              "       width=\"24px\">\n",
              "    <path d=\"M0 0h24v24H0V0z\" fill=\"none\"/>\n",
              "    <path d=\"M18.56 5.44l.94 2.06.94-2.06 2.06-.94-2.06-.94-.94-2.06-.94 2.06-2.06.94zm-11 1L8.5 8.5l.94-2.06 2.06-.94-2.06-.94L8.5 2.5l-.94 2.06-2.06.94zm10 10l.94 2.06.94-2.06 2.06-.94-2.06-.94-.94-2.06-.94 2.06-2.06.94z\"/><path d=\"M17.41 7.96l-1.37-1.37c-.4-.4-.92-.59-1.43-.59-.52 0-1.04.2-1.43.59L10.3 9.45l-7.72 7.72c-.78.78-.78 2.05 0 2.83L4 21.41c.39.39.9.59 1.41.59.51 0 1.02-.2 1.41-.59l7.78-7.78 2.81-2.81c.8-.78.8-2.07 0-2.86zM5.41 20L4 18.59l7.72-7.72 1.47 1.35L5.41 20z\"/>\n",
              "  </svg>\n",
              "      </button>\n",
              "      \n",
              "  <style>\n",
              "    .colab-df-container {\n",
              "      display:flex;\n",
              "      flex-wrap:wrap;\n",
              "      gap: 12px;\n",
              "    }\n",
              "\n",
              "    .colab-df-convert {\n",
              "      background-color: #E8F0FE;\n",
              "      border: none;\n",
              "      border-radius: 50%;\n",
              "      cursor: pointer;\n",
              "      display: none;\n",
              "      fill: #1967D2;\n",
              "      height: 32px;\n",
              "      padding: 0 0 0 0;\n",
              "      width: 32px;\n",
              "    }\n",
              "\n",
              "    .colab-df-convert:hover {\n",
              "      background-color: #E2EBFA;\n",
              "      box-shadow: 0px 1px 2px rgba(60, 64, 67, 0.3), 0px 1px 3px 1px rgba(60, 64, 67, 0.15);\n",
              "      fill: #174EA6;\n",
              "    }\n",
              "\n",
              "    [theme=dark] .colab-df-convert {\n",
              "      background-color: #3B4455;\n",
              "      fill: #D2E3FC;\n",
              "    }\n",
              "\n",
              "    [theme=dark] .colab-df-convert:hover {\n",
              "      background-color: #434B5C;\n",
              "      box-shadow: 0px 1px 3px 1px rgba(0, 0, 0, 0.15);\n",
              "      filter: drop-shadow(0px 1px 2px rgba(0, 0, 0, 0.3));\n",
              "      fill: #FFFFFF;\n",
              "    }\n",
              "  </style>\n",
              "\n",
              "      <script>\n",
              "        const buttonEl =\n",
              "          document.querySelector('#df-e64141e6-1849-4c5f-80ea-8a449e5ee8d6 button.colab-df-convert');\n",
              "        buttonEl.style.display =\n",
              "          google.colab.kernel.accessAllowed ? 'block' : 'none';\n",
              "\n",
              "        async function convertToInteractive(key) {\n",
              "          const element = document.querySelector('#df-e64141e6-1849-4c5f-80ea-8a449e5ee8d6');\n",
              "          const dataTable =\n",
              "            await google.colab.kernel.invokeFunction('convertToInteractive',\n",
              "                                                     [key], {});\n",
              "          if (!dataTable) return;\n",
              "\n",
              "          const docLinkHtml = 'Like what you see? Visit the ' +\n",
              "            '<a target=\"_blank\" href=https://colab.research.google.com/notebooks/data_table.ipynb>data table notebook</a>'\n",
              "            + ' to learn more about interactive tables.';\n",
              "          element.innerHTML = '';\n",
              "          dataTable['output_type'] = 'display_data';\n",
              "          await google.colab.output.renderOutput(dataTable, element);\n",
              "          const docLink = document.createElement('div');\n",
              "          docLink.innerHTML = docLinkHtml;\n",
              "          element.appendChild(docLink);\n",
              "        }\n",
              "      </script>\n",
              "    </div>\n",
              "  </div>\n",
              "  "
            ]
          },
          "metadata": {},
          "execution_count": 308
        }
      ]
    },
    {
      "cell_type": "code",
      "source": [
        "userInput = input(\"Enter your skill:\")\n",
        "pred =vectorizer.transform([userInput.lower()])\n",
        "\n",
        "output = classifier.predict(pred)\n",
        "print(\"You may look into \"+ output[0]+\" jobs\")\n",
        "print(\"Here is a list of jobs that is under\"+ output[0])\n",
        "\n",
        "cos =[]\n",
        "labelData= df_job[df_job['Label'] == output[0]]\n",
        "\n",
        "for index,row in labelData.iterrows():\n",
        "   skills =[row['Key Skills']]\n",
        "   skillVec =vectorizer.transform(skills)\n",
        "   cos_lib = cosine_similarity(skillVec, pred)\n",
        "   cos.append(cos_lib[0][0])\n",
        "\n",
        "labelData['cosine_similarity'] = cos\n",
        "\n",
        "top_5 =labelData.sort_values('cosine_similarity', ascending = False)[['Job Title',\t'Key Skills','Role']]\n",
        "top_5.head(5)"
      ],
      "metadata": {
        "id": "J_ndAEvxoXGy",
        "colab": {
          "base_uri": "https://localhost:8080/",
          "height": 261
        },
        "outputId": "b270a396-3957-4828-a20a-0720e0995b59"
      },
      "execution_count": 309,
      "outputs": [
        {
          "output_type": "stream",
          "name": "stdout",
          "text": [
            "Enter your skill:java\n",
            "You may look into Full Stack Web Developer jobs\n",
            "Here is a list of jobs that is underFull Stack Web Developer\n"
          ]
        },
        {
          "output_type": "execute_result",
          "data": {
            "text/plain": [
              "                                               Job Title  \\\n",
              "21345                  Core Java - Chennai 3rd Aug Drive   \n",
              "19325      Software Engineering Leads - Machine Learning   \n",
              "27295                              Senior Java Developer   \n",
              "16669          Java Fullstack Developer_gurgaon_contract   \n",
              "20283   Java Developer IT MNC JMD Megapolis Gurgaon S...   \n",
              "\n",
              "                                              Key Skills  \\\n",
              "21345                                               Java   \n",
              "19325                                          Java| C++   \n",
              "27295                                       spring| java   \n",
              "16669                                    Java| Angularjs   \n",
              "20283   hibernate| spring| microservices| core java| ...   \n",
              "\n",
              "                           Role  \n",
              "21345  Team Lead/Technical Lead  \n",
              "19325                     Other  \n",
              "27295                   Analyst  \n",
              "16669        Software Developer  \n",
              "20283        Software Developer  "
            ],
            "text/html": [
              "\n",
              "  <div id=\"df-70a6c67a-b77f-4c27-ba40-94b4cf945710\">\n",
              "    <div class=\"colab-df-container\">\n",
              "      <div>\n",
              "<style scoped>\n",
              "    .dataframe tbody tr th:only-of-type {\n",
              "        vertical-align: middle;\n",
              "    }\n",
              "\n",
              "    .dataframe tbody tr th {\n",
              "        vertical-align: top;\n",
              "    }\n",
              "\n",
              "    .dataframe thead th {\n",
              "        text-align: right;\n",
              "    }\n",
              "</style>\n",
              "<table border=\"1\" class=\"dataframe\">\n",
              "  <thead>\n",
              "    <tr style=\"text-align: right;\">\n",
              "      <th></th>\n",
              "      <th>Job Title</th>\n",
              "      <th>Key Skills</th>\n",
              "      <th>Role</th>\n",
              "    </tr>\n",
              "  </thead>\n",
              "  <tbody>\n",
              "    <tr>\n",
              "      <th>21345</th>\n",
              "      <td>Core Java - Chennai 3rd Aug Drive</td>\n",
              "      <td>Java</td>\n",
              "      <td>Team Lead/Technical Lead</td>\n",
              "    </tr>\n",
              "    <tr>\n",
              "      <th>19325</th>\n",
              "      <td>Software Engineering Leads - Machine Learning</td>\n",
              "      <td>Java| C++</td>\n",
              "      <td>Other</td>\n",
              "    </tr>\n",
              "    <tr>\n",
              "      <th>27295</th>\n",
              "      <td>Senior Java Developer</td>\n",
              "      <td>spring| java</td>\n",
              "      <td>Analyst</td>\n",
              "    </tr>\n",
              "    <tr>\n",
              "      <th>16669</th>\n",
              "      <td>Java Fullstack Developer_gurgaon_contract</td>\n",
              "      <td>Java| Angularjs</td>\n",
              "      <td>Software Developer</td>\n",
              "    </tr>\n",
              "    <tr>\n",
              "      <th>20283</th>\n",
              "      <td>Java Developer IT MNC JMD Megapolis Gurgaon S...</td>\n",
              "      <td>hibernate| spring| microservices| core java| ...</td>\n",
              "      <td>Software Developer</td>\n",
              "    </tr>\n",
              "  </tbody>\n",
              "</table>\n",
              "</div>\n",
              "      <button class=\"colab-df-convert\" onclick=\"convertToInteractive('df-70a6c67a-b77f-4c27-ba40-94b4cf945710')\"\n",
              "              title=\"Convert this dataframe to an interactive table.\"\n",
              "              style=\"display:none;\">\n",
              "        \n",
              "  <svg xmlns=\"http://www.w3.org/2000/svg\" height=\"24px\"viewBox=\"0 0 24 24\"\n",
              "       width=\"24px\">\n",
              "    <path d=\"M0 0h24v24H0V0z\" fill=\"none\"/>\n",
              "    <path d=\"M18.56 5.44l.94 2.06.94-2.06 2.06-.94-2.06-.94-.94-2.06-.94 2.06-2.06.94zm-11 1L8.5 8.5l.94-2.06 2.06-.94-2.06-.94L8.5 2.5l-.94 2.06-2.06.94zm10 10l.94 2.06.94-2.06 2.06-.94-2.06-.94-.94-2.06-.94 2.06-2.06.94z\"/><path d=\"M17.41 7.96l-1.37-1.37c-.4-.4-.92-.59-1.43-.59-.52 0-1.04.2-1.43.59L10.3 9.45l-7.72 7.72c-.78.78-.78 2.05 0 2.83L4 21.41c.39.39.9.59 1.41.59.51 0 1.02-.2 1.41-.59l7.78-7.78 2.81-2.81c.8-.78.8-2.07 0-2.86zM5.41 20L4 18.59l7.72-7.72 1.47 1.35L5.41 20z\"/>\n",
              "  </svg>\n",
              "      </button>\n",
              "      \n",
              "  <style>\n",
              "    .colab-df-container {\n",
              "      display:flex;\n",
              "      flex-wrap:wrap;\n",
              "      gap: 12px;\n",
              "    }\n",
              "\n",
              "    .colab-df-convert {\n",
              "      background-color: #E8F0FE;\n",
              "      border: none;\n",
              "      border-radius: 50%;\n",
              "      cursor: pointer;\n",
              "      display: none;\n",
              "      fill: #1967D2;\n",
              "      height: 32px;\n",
              "      padding: 0 0 0 0;\n",
              "      width: 32px;\n",
              "    }\n",
              "\n",
              "    .colab-df-convert:hover {\n",
              "      background-color: #E2EBFA;\n",
              "      box-shadow: 0px 1px 2px rgba(60, 64, 67, 0.3), 0px 1px 3px 1px rgba(60, 64, 67, 0.15);\n",
              "      fill: #174EA6;\n",
              "    }\n",
              "\n",
              "    [theme=dark] .colab-df-convert {\n",
              "      background-color: #3B4455;\n",
              "      fill: #D2E3FC;\n",
              "    }\n",
              "\n",
              "    [theme=dark] .colab-df-convert:hover {\n",
              "      background-color: #434B5C;\n",
              "      box-shadow: 0px 1px 3px 1px rgba(0, 0, 0, 0.15);\n",
              "      filter: drop-shadow(0px 1px 2px rgba(0, 0, 0, 0.3));\n",
              "      fill: #FFFFFF;\n",
              "    }\n",
              "  </style>\n",
              "\n",
              "      <script>\n",
              "        const buttonEl =\n",
              "          document.querySelector('#df-70a6c67a-b77f-4c27-ba40-94b4cf945710 button.colab-df-convert');\n",
              "        buttonEl.style.display =\n",
              "          google.colab.kernel.accessAllowed ? 'block' : 'none';\n",
              "\n",
              "        async function convertToInteractive(key) {\n",
              "          const element = document.querySelector('#df-70a6c67a-b77f-4c27-ba40-94b4cf945710');\n",
              "          const dataTable =\n",
              "            await google.colab.kernel.invokeFunction('convertToInteractive',\n",
              "                                                     [key], {});\n",
              "          if (!dataTable) return;\n",
              "\n",
              "          const docLinkHtml = 'Like what you see? Visit the ' +\n",
              "            '<a target=\"_blank\" href=https://colab.research.google.com/notebooks/data_table.ipynb>data table notebook</a>'\n",
              "            + ' to learn more about interactive tables.';\n",
              "          element.innerHTML = '';\n",
              "          dataTable['output_type'] = 'display_data';\n",
              "          await google.colab.output.renderOutput(dataTable, element);\n",
              "          const docLink = document.createElement('div');\n",
              "          docLink.innerHTML = docLinkHtml;\n",
              "          element.appendChild(docLink);\n",
              "        }\n",
              "      </script>\n",
              "    </div>\n",
              "  </div>\n",
              "  "
            ]
          },
          "metadata": {},
          "execution_count": 309
        }
      ]
    }
  ]
}